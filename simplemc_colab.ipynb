{
  "cells": [
    {
      "cell_type": "code",
      "execution_count": 1,
      "metadata": {
        "colab": {
          "base_uri": "https://localhost:8080/"
        },
        "id": "H5SwqTCLOeE7",
        "outputId": "89a2bc46-52a5-49cf-f714-ebecf9a62b9f"
      },
      "outputs": [
        {
          "output_type": "stream",
          "name": "stdout",
          "text": [
            "Looking in indexes: https://pypi.org/simple, https://us-python.pkg.dev/colab-wheels/public/simple/\n",
            "Collecting getdist\n",
            "  Downloading GetDist-1.3.4.tar.gz (777 kB)\n",
            "\u001b[K     |████████████████████████████████| 777 kB 4.9 MB/s \n",
            "\u001b[?25hCollecting corner\n",
            "  Downloading corner-2.2.1-py3-none-any.whl (15 kB)\n",
            "Collecting fgivenx\n",
            "  Downloading fgivenx-2.4.1-py3-none-any.whl (617 kB)\n",
            "\u001b[K     |████████████████████████████████| 617 kB 25.8 MB/s \n",
            "\u001b[?25hCollecting deap\n",
            "  Downloading deap-1.3.1-cp37-cp37m-manylinux_2_5_x86_64.manylinux1_x86_64.manylinux_2_12_x86_64.manylinux2010_x86_64.whl (160 kB)\n",
            "\u001b[K     |████████████████████████████████| 160 kB 24.8 MB/s \n",
            "\u001b[?25hCollecting numdifftools\n",
            "  Downloading numdifftools-0.9.40-py2.py3-none-any.whl (99 kB)\n",
            "\u001b[K     |████████████████████████████████| 99 kB 5.3 MB/s \n",
            "\u001b[?25hRequirement already satisfied: numpy>=1.17.0 in /usr/local/lib/python3.7/dist-packages (from getdist) (1.21.6)\n",
            "Requirement already satisfied: matplotlib!=3.5.0,>=2.2.0 in /usr/local/lib/python3.7/dist-packages (from getdist) (3.2.2)\n",
            "Collecting scipy>=1.5.0\n",
            "  Downloading scipy-1.7.3-cp37-cp37m-manylinux_2_12_x86_64.manylinux2010_x86_64.whl (38.1 MB)\n",
            "\u001b[K     |████████████████████████████████| 38.1 MB 1.6 MB/s \n",
            "\u001b[?25hCollecting PyYAML>=5.1\n",
            "  Downloading PyYAML-6.0-cp37-cp37m-manylinux_2_5_x86_64.manylinux1_x86_64.manylinux_2_12_x86_64.manylinux2010_x86_64.whl (596 kB)\n",
            "\u001b[K     |████████████████████████████████| 596 kB 48.7 MB/s \n",
            "\u001b[?25hRequirement already satisfied: pyparsing!=2.0.4,!=2.1.2,!=2.1.6,>=2.0.1 in /usr/local/lib/python3.7/dist-packages (from matplotlib!=3.5.0,>=2.2.0->getdist) (3.0.9)\n",
            "Requirement already satisfied: cycler>=0.10 in /usr/local/lib/python3.7/dist-packages (from matplotlib!=3.5.0,>=2.2.0->getdist) (0.11.0)\n",
            "Requirement already satisfied: python-dateutil>=2.1 in /usr/local/lib/python3.7/dist-packages (from matplotlib!=3.5.0,>=2.2.0->getdist) (2.8.2)\n",
            "Requirement already satisfied: kiwisolver>=1.0.1 in /usr/local/lib/python3.7/dist-packages (from matplotlib!=3.5.0,>=2.2.0->getdist) (1.4.2)\n",
            "Requirement already satisfied: typing-extensions in /usr/local/lib/python3.7/dist-packages (from kiwisolver>=1.0.1->matplotlib!=3.5.0,>=2.2.0->getdist) (4.2.0)\n",
            "Requirement already satisfied: six>=1.5 in /usr/local/lib/python3.7/dist-packages (from python-dateutil>=2.1->matplotlib!=3.5.0,>=2.2.0->getdist) (1.15.0)\n",
            "Requirement already satisfied: statsmodels>=0.6 in /usr/local/lib/python3.7/dist-packages (from numdifftools) (0.10.2)\n",
            "Collecting algopy>=0.4\n",
            "  Downloading algopy-0.5.7.zip (189 kB)\n",
            "\u001b[K     |████████████████████████████████| 189 kB 54.9 MB/s \n",
            "\u001b[?25hRequirement already satisfied: pandas>=0.19 in /usr/local/lib/python3.7/dist-packages (from statsmodels>=0.6->numdifftools) (1.3.5)\n",
            "Requirement already satisfied: patsy>=0.4.0 in /usr/local/lib/python3.7/dist-packages (from statsmodels>=0.6->numdifftools) (0.5.2)\n",
            "Requirement already satisfied: pytz>=2017.3 in /usr/local/lib/python3.7/dist-packages (from pandas>=0.19->statsmodels>=0.6->numdifftools) (2022.1)\n",
            "Building wheels for collected packages: getdist, algopy\n",
            "  Building wheel for getdist (setup.py) ... \u001b[?25l\u001b[?25hdone\n",
            "  Created wheel for getdist: filename=GetDist-1.3.4-py3-none-any.whl size=226496 sha256=b9b329ec590359bdd2bf66fb2cfe6d3fb358718eeedef1b6f8310c864be4c7b6\n",
            "  Stored in directory: /root/.cache/pip/wheels/b4/f0/9d/b16a7e7cb4bc8467e9d2c1b0fbd734e50622562f69a2a41edd\n",
            "  Building wheel for algopy (setup.py) ... \u001b[?25l\u001b[?25hdone\n",
            "  Created wheel for algopy: filename=algopy-0.5.7-py3-none-any.whl size=107608 sha256=38db22e831edd9a247306ffb91ea83e00be387e8fee2d8397c2d86ded18dd8de\n",
            "  Stored in directory: /root/.cache/pip/wheels/a8/fd/06/21dc6aba9f680fdbde386c06b1a8a1cf3d9a5f6bd96e31dcd4\n",
            "Successfully built getdist algopy\n",
            "Installing collected packages: scipy, PyYAML, algopy, numdifftools, getdist, fgivenx, deap, corner\n",
            "  Attempting uninstall: scipy\n",
            "    Found existing installation: scipy 1.4.1\n",
            "    Uninstalling scipy-1.4.1:\n",
            "      Successfully uninstalled scipy-1.4.1\n",
            "  Attempting uninstall: PyYAML\n",
            "    Found existing installation: PyYAML 3.13\n",
            "    Uninstalling PyYAML-3.13:\n",
            "      Successfully uninstalled PyYAML-3.13\n",
            "\u001b[31mERROR: pip's dependency resolver does not currently take into account all the packages that are installed. This behaviour is the source of the following dependency conflicts.\n",
            "albumentations 0.1.12 requires imgaug<0.2.7,>=0.2.5, but you have imgaug 0.2.9 which is incompatible.\u001b[0m\n",
            "Successfully installed PyYAML-6.0 algopy-0.5.7 corner-2.2.1 deap-1.3.1 fgivenx-2.4.1 getdist-1.3.4 numdifftools-0.9.40 scipy-1.7.3\n"
          ]
        }
      ],
      "source": [
        "%pip install getdist corner fgivenx deap numdifftools"
      ]
    },
    {
      "cell_type": "code",
      "execution_count": 2,
      "metadata": {
        "colab": {
          "base_uri": "https://localhost:8080/"
        },
        "id": "WMKDptY7w5lq",
        "outputId": "b1bce1a9-616d-4232-9d1c-b53e28c241e3"
      },
      "outputs": [
        {
          "output_type": "stream",
          "name": "stdout",
          "text": [
            "Looking in indexes: https://pypi.org/simple, https://us-python.pkg.dev/colab-wheels/public/simple/\n",
            "Obtaining simplemc from git+https://github.com/ja-vazquez/SimpleMC#egg=simplemc\n",
            "  Cloning https://github.com/ja-vazquez/SimpleMC to ./src/simplemc\n",
            "  Running command git clone -q https://github.com/ja-vazquez/SimpleMC /content/src/simplemc\n",
            "Requirement already satisfied: numpy in /usr/local/lib/python3.7/dist-packages (from simplemc) (1.21.6)\n",
            "Requirement already satisfied: scipy in /usr/local/lib/python3.7/dist-packages (from simplemc) (1.7.3)\n",
            "Requirement already satisfied: sklearn in /usr/local/lib/python3.7/dist-packages (from simplemc) (0.0)\n",
            "Requirement already satisfied: matplotlib in /usr/local/lib/python3.7/dist-packages (from simplemc) (3.2.2)\n",
            "Requirement already satisfied: numdifftools in /usr/local/lib/python3.7/dist-packages (from simplemc) (0.9.40)\n",
            "Collecting mpi4py\n",
            "  Downloading mpi4py-3.1.3.tar.gz (2.5 MB)\n",
            "\u001b[K     |████████████████████████████████| 2.5 MB 6.7 MB/s \n",
            "\u001b[?25h  Installing build dependencies ... \u001b[?25l\u001b[?25hdone\n",
            "  Getting requirements to build wheel ... \u001b[?25l\u001b[?25hdone\n",
            "    Preparing wheel metadata ... \u001b[?25l\u001b[?25hdone\n",
            "Requirement already satisfied: kiwisolver>=1.0.1 in /usr/local/lib/python3.7/dist-packages (from matplotlib->simplemc) (1.4.2)\n",
            "Requirement already satisfied: python-dateutil>=2.1 in /usr/local/lib/python3.7/dist-packages (from matplotlib->simplemc) (2.8.2)\n",
            "Requirement already satisfied: cycler>=0.10 in /usr/local/lib/python3.7/dist-packages (from matplotlib->simplemc) (0.11.0)\n",
            "Requirement already satisfied: pyparsing!=2.0.4,!=2.1.2,!=2.1.6,>=2.0.1 in /usr/local/lib/python3.7/dist-packages (from matplotlib->simplemc) (3.0.9)\n",
            "Requirement already satisfied: typing-extensions in /usr/local/lib/python3.7/dist-packages (from kiwisolver>=1.0.1->matplotlib->simplemc) (4.2.0)\n",
            "Requirement already satisfied: six>=1.5 in /usr/local/lib/python3.7/dist-packages (from python-dateutil>=2.1->matplotlib->simplemc) (1.15.0)\n",
            "Requirement already satisfied: statsmodels>=0.6 in /usr/local/lib/python3.7/dist-packages (from numdifftools->simplemc) (0.10.2)\n",
            "Requirement already satisfied: algopy>=0.4 in /usr/local/lib/python3.7/dist-packages (from numdifftools->simplemc) (0.5.7)\n",
            "Requirement already satisfied: pandas>=0.19 in /usr/local/lib/python3.7/dist-packages (from statsmodels>=0.6->numdifftools->simplemc) (1.3.5)\n",
            "Requirement already satisfied: patsy>=0.4.0 in /usr/local/lib/python3.7/dist-packages (from statsmodels>=0.6->numdifftools->simplemc) (0.5.2)\n",
            "Requirement already satisfied: pytz>=2017.3 in /usr/local/lib/python3.7/dist-packages (from pandas>=0.19->statsmodels>=0.6->numdifftools->simplemc) (2022.1)\n",
            "Requirement already satisfied: scikit-learn in /usr/local/lib/python3.7/dist-packages (from sklearn->simplemc) (1.0.2)\n",
            "Requirement already satisfied: threadpoolctl>=2.0.0 in /usr/local/lib/python3.7/dist-packages (from scikit-learn->sklearn->simplemc) (3.1.0)\n",
            "Requirement already satisfied: joblib>=0.11 in /usr/local/lib/python3.7/dist-packages (from scikit-learn->sklearn->simplemc) (1.1.0)\n",
            "Building wheels for collected packages: mpi4py\n",
            "  Building wheel for mpi4py (PEP 517) ... \u001b[?25l\u001b[?25hdone\n",
            "  Created wheel for mpi4py: filename=mpi4py-3.1.3-cp37-cp37m-linux_x86_64.whl size=2185264 sha256=7d337b0f63c7a03d308fdab81ab5d81d77388d6a218c2129baf045b806b555a2\n",
            "  Stored in directory: /root/.cache/pip/wheels/7a/07/14/6a0c63fa2c6e473c6edc40985b7d89f05c61ff25ee7f0ad9ac\n",
            "Successfully built mpi4py\n",
            "Installing collected packages: mpi4py, simplemc\n",
            "  Running setup.py develop for simplemc\n",
            "Successfully installed mpi4py-3.1.3 simplemc-0.9.8\n"
          ]
        }
      ],
      "source": [
        "!pip install -e git+https://github.com/ja-vazquez/SimpleMC#egg=simplemc"
      ]
    },
    {
      "cell_type": "markdown",
      "source": [
        "To install permamently libraries in Google Colab, please see https://stackoverflow.com/questions/55253498/how-do-i-install-a-library-permanently-in-colab "
      ],
      "metadata": {
        "id": "NHEpcSwqhkuM"
      }
    },
    {
      "cell_type": "markdown",
      "metadata": {
        "id": "KsfNNGJ-S2CJ"
      },
      "source": [
        "**Test that simplemc is successfully installed**"
      ]
    },
    {
      "cell_type": "code",
      "execution_count": 3,
      "metadata": {
        "colab": {
          "base_uri": "https://localhost:8080/"
        },
        "id": "_zt4Z356Pzi6",
        "outputId": "871f72af-f947-4833-f7a3-c0ea7ac1cf28"
      },
      "outputs": [
        {
          "output_type": "stream",
          "name": "stdout",
          "text": [
            "/content/src/simplemc\n"
          ]
        }
      ],
      "source": [
        "%cd /content/src/simplemc/\n",
        "import simplemc"
      ]
    },
    {
      "cell_type": "markdown",
      "metadata": {
        "id": "n9UaotMeTH50"
      },
      "source": [
        "**Import generic libraries**"
      ]
    },
    {
      "cell_type": "code",
      "execution_count": 4,
      "metadata": {
        "id": "oaol_NrgTHPn"
      },
      "outputs": [],
      "source": [
        "import matplotlib.pyplot as plt\n",
        "import numpy as np\n",
        "\n"
      ]
    },
    {
      "cell_type": "markdown",
      "metadata": {
        "id": "mzLdE_wjS9uq"
      },
      "source": [
        "# Cosmological calculator\n",
        "\n",
        "Available functions in Cosmocalc:\n",
        "\n",
        "- 'Hubble'\n",
        "- 'DaOverrd'\n",
        "- 'HIOverrd'\n",
        "- 'DVOverrd'\n",
        "- 'HubInvOverz'\n",
        "- 'SNIa'\n",
        "- 'fs8'\n",
        "- 'Age' (without plot)\n",
        "\n",
        "```\n",
        "CosmoCalcmodel(model, funct=None, param=None, minparam=None,\n",
        "               maxparam=None, nsteps=3, savepdf=False, zmax=3,\n",
        "               plot_data=False)\n",
        "```\n",
        "If `param=None` the parameters values are the defaults included in `cosmo/paramDefs.py`. You can choose some parameter of the chosen model, and vary plot it using `minparam`, `maxparam` and `nsteps`.\n",
        "\n",
        "## 1.1. Cosmic chronometers and Hubble function"
      ]
    },
    {
      "cell_type": "code",
      "execution_count": null,
      "metadata": {
        "id": "fLKOO5fLTCAX"
      },
      "outputs": [],
      "source": [
        "from simplemc.CosmoCalc import CosmoCalc"
      ]
    },
    {
      "cell_type": "code",
      "execution_count": null,
      "metadata": {
        "colab": {
          "base_uri": "https://localhost:8080/",
          "height": 453
        },
        "id": "rrlN9SYETVgv",
        "outputId": "b88aefba-d594-415e-a6d4-91f1330bb1f9"
      },
      "outputs": [
        {
          "output_type": "stream",
          "name": "stderr",
          "text": [
            "WARNING:matplotlib.legend:No handles with labels found to put in legend.\n"
          ]
        },
        {
          "output_type": "stream",
          "name": "stdout",
          "text": [
            "LCDM\n"
          ]
        },
        {
          "output_type": "display_data",
          "data": {
            "text/plain": [
              "<Figure size 648x432 with 1 Axes>"
            ],
            "image/png": "[encoded data removed]"
          },
          "metadata": {
            "needs_background": "light"
          }
        }
      ],
      "source": [
        "C = CosmoCalc('LCDM', funct='Hubble', plot_data=True, zmax=2.1)\n",
        "plot = C.run_plot(lw='2')\n",
        "# plot.savefig('cosmocalc_hubble.png', dpi=300)"
      ]
    },
    {
      "cell_type": "markdown",
      "metadata": {
        "id": "RSU398GCT6wl"
      },
      "source": [
        "## 1.2. Compute the age of the Universe, the $Da/r_d(z=2)$ and $f \\sigma_8(z=2)$\n",
        "\n",
        "\n"
      ]
    },
    {
      "cell_type": "code",
      "execution_count": null,
      "metadata": {
        "colab": {
          "base_uri": "https://localhost:8080/"
        },
        "id": "0yL44tIVT5nD",
        "outputId": "cd849a7d-f60a-4597-e96f-660be69f68cd"
      },
      "outputs": [
        {
          "output_type": "stream",
          "name": "stdout",
          "text": [
            "LCDM\n",
            "13.78Gys\n"
          ]
        },
        {
          "output_type": "execute_result",
          "data": {
            "text/plain": [
              "(13.775572047446666, 25.392400314890214, 0.32184806231739976)"
            ]
          },
          "metadata": {},
          "execution_count": 7
        }
      ],
      "source": [
        "C = CosmoCalc('LCDM', funct='Age')\n",
        "C.Age(), C.DaOverrd(z=2), C.fs8(z=2)"
      ]
    },
    {
      "cell_type": "markdown",
      "metadata": {
        "id": "y0CSaYMGUXZZ"
      },
      "source": [
        "## 1.3. Distance modulus to LCDM and SNeIa datasets"
      ]
    },
    {
      "cell_type": "code",
      "execution_count": null,
      "metadata": {
        "colab": {
          "base_uri": "https://localhost:8080/",
          "height": 453
        },
        "id": "6Fwud3MgUeoA",
        "outputId": "45204b3e-b9c5-448c-ff1d-2ddb4b22e195"
      },
      "outputs": [
        {
          "output_type": "stream",
          "name": "stdout",
          "text": [
            "LCDM\n"
          ]
        },
        {
          "output_type": "stream",
          "name": "stderr",
          "text": [
            "WARNING:matplotlib.legend:No handles with labels found to put in legend.\n"
          ]
        },
        {
          "output_type": "display_data",
          "data": {
            "text/plain": [
              "<Figure size 648x432 with 1 Axes>"
            ],
            "image/png": "[encoded data removed]"
          },
          "metadata": {
            "needs_background": "light"
          }
        }
      ],
      "source": [
        "C = CosmoCalc('LCDM', funct='SNIa', plot_data=True, zmax=2.3)\n",
        "plot = C.run_plot(lw='2')\n",
        "# plot.savefig('cosmocalc_sn.png', dpi=300)"
      ]
    },
    {
      "cell_type": "markdown",
      "metadata": {
        "id": "wbcsE_LhUnQi"
      },
      "source": [
        "## 1.4 BAO data\n",
        "\n",
        "Varying a model parameter."
      ]
    },
    {
      "cell_type": "code",
      "execution_count": null,
      "metadata": {
        "colab": {
          "base_uri": "https://localhost:8080/",
          "height": 435
        },
        "id": "qpHUMeX3Umc9",
        "outputId": "a01e6113-e18f-4d16-8c5c-4e23742fdf64"
      },
      "outputs": [
        {
          "output_type": "stream",
          "name": "stdout",
          "text": [
            "LCDM\n"
          ]
        },
        {
          "output_type": "display_data",
          "data": {
            "text/plain": [
              "<Figure size 648x432 with 1 Axes>"
            ],
            "image/png": "[encoded data removed]"
          },
          "metadata": {
            "needs_background": "light"
          }
        }
      ],
      "source": [
        "C = CosmoCalc('LCDM', funct='DaOverrd', param='h', minparam=0.4, maxparam=0.9, nsteps=3, plot_data=True)\n",
        "plot = C.run_plot(lw='2')\n",
        "# plot.savefig('cosmocalc_daoverrd.png', dpi=300)"
      ]
    },
    {
      "cell_type": "markdown",
      "metadata": {
        "id": "_OFLG9MzU6YQ"
      },
      "source": [
        "## 1.5. $f \\sigma_8$ measurements and $f \\sigma_8(z)$ to CPL (owacdm) with several values to $w_a$"
      ]
    },
    {
      "cell_type": "code",
      "execution_count": null,
      "metadata": {
        "colab": {
          "base_uri": "https://localhost:8080/",
          "height": 435
        },
        "id": "bOIX-uuIVRgn",
        "outputId": "68cab86f-39c2-464e-d381-eaaa52786184"
      },
      "outputs": [
        {
          "output_type": "stream",
          "name": "stdout",
          "text": [
            "owaCDM\n"
          ]
        },
        {
          "output_type": "display_data",
          "data": {
            "text/plain": [
              "<Figure size 648x432 with 1 Axes>"
            ],
            "image/png": "[encoded data removed]"
          },
          "metadata": {
            "needs_background": "light"
          }
        }
      ],
      "source": [
        "C = CosmoCalc('owaCDM', 'fs8', 'wa', -0.5, 0.5, 5, zmax=3.1, plot_data=True)\n",
        "plot = C.run_plot(lw='1')\n",
        "# plot.savefig('cosmocalc_fs8data.png', dpi=300)"
      ]
    },
    {
      "cell_type": "markdown",
      "metadata": {
        "id": "6GZS_dfaTWrG"
      },
      "source": [
        "# MLE with genetic algorithms"
      ]
    },
    {
      "cell_type": "code",
      "execution_count": 5,
      "metadata": {
        "id": "TQiKR67jtCdb"
      },
      "outputs": [],
      "source": [
        "import matplotlib.pyplot as plt\n",
        "from simplemc.DriverMC import DriverMC\n",
        "from simplemc.plots.Plot_elipses import plot_elipses"
      ]
    },
    {
      "cell_type": "code",
      "execution_count": 6,
      "metadata": {
        "colab": {
          "base_uri": "https://localhost:8080/"
        },
        "id": "4q5Jt-LIznb5",
        "outputId": "c1a95e90-0644-48a8-d4fe-f092d2396fa5"
      },
      "outputs": [
        {
          "output_type": "stream",
          "name": "stdout",
          "text": [
            "Loading  /content/src/simplemc/simplemc/data/HDiagramCompilacion-data_31.txt\n",
            "Loading  /content/src/simplemc/simplemc/data/HDiagramCompilacion-cov_31.txt\n",
            "Eigenvalues of cov matrix: [16.0, 25.0, 64.0] ... 3844.0\n",
            "Adding marginalising constant\n",
            "Free parameters:\n",
            "Om = 0.3038 +/- 0.05\n",
            "Obh2 = 0.02234 +/- 0.001\n",
            "h = 0.6821 +/- 0.05\n"
          ]
        }
      ],
      "source": [
        "analyzer1 = DriverMC(analyzername=\"ga_deap\", model=\"LCDM\", datasets=\"HD\", chainsdir='simplemc/chains/')"
      ]
    },
    {
      "cell_type": "code",
      "execution_count": 7,
      "metadata": {
        "colab": {
          "base_uri": "https://localhost:8080/"
        },
        "id": "6d9dn6gHzpzo",
        "outputId": "77797688-42ad-4517-b41f-7052d5ff2205"
      },
      "outputs": [
        {
          "output_type": "stream",
          "name": "stdout",
          "text": [
            "Minimizing... [0.3038, 0.02234, 0.6821] with bounds [(0.1, 0.5), (0.02, 0.025), (0.4, 0.9)]\n",
            "gen\tnevals\tmin    \tavg   \n",
            "0  \t20    \t9.34904\t30.108\n",
            "1  \t16    \t8.29556\t20.8984\n",
            "2  \t14    \t8.29556\t25.031 \n",
            "3  \t16    \t8.29556\t21.0975\n",
            "4  \t16    \t8.20547\t16.5404\n",
            "5  \t17    \t8.09436\t16.6349\n",
            "6  \t14    \t8.09436\t15.3003\n",
            "7  \t17    \t7.3422 \t12.377 \n",
            "8  \t12    \t7.33737\t11.5643\n",
            "9  \t18    \t7.29408\t8.94296\n",
            "10 \t12    \t7.29408\t8.22988\n",
            "11 \t16    \t7.29408\t12.4521\n",
            "12 \t17    \t7.29408\t10.7496\n",
            "13 \t14    \t7.29394\t9.94689\n",
            "14 \t18    \t7.28049\t7.9385 \n",
            "15 \t13    \t7.28049\t14.9918\n",
            "16 \t16    \t7.278  \t11.7636\n",
            "17 \t16    \t7.278  \t9.8134 \n",
            "18 \t15    \t7.27675\t10.3429\n",
            "19 \t12    \t7.27675\t8.30349\n",
            "20 \t17    \t7.26184\t11.1742\n",
            "21 \t16    \t7.26088\t10.2024\n",
            "22 \t17    \t7.26088\t11.4275\n",
            "23 \t17    \t7.26088\t12.1569\n",
            "24 \t12    \t7.26088\t9.8698 \n",
            "25 \t16    \t7.26088\t9.86115\n",
            "26 \t16    \t7.26088\t10.4761\n",
            "27 \t16    \t7.26088\t9.07152\n",
            "28 \t13    \t7.25682\t9.4314 \n",
            "29 \t16    \t7.25682\t8.35468\n",
            "30 \t13    \t7.25682\t8.56773\n",
            "31 \t16    \t7.25682\t9.91993\n",
            "32 \t18    \t7.25631\t8.9625 \n",
            "33 \t18    \t7.25533\t7.85714\n",
            "34 \t14    \t7.25533\t7.65185\n",
            "35 \t15    \t7.25533\t8.37109\n",
            "36 \t17    \t7.25533\t9.76894\n",
            "37 \t18    \t7.25519\t9.59301\n",
            "38 \t11    \t7.25518\t8.05612\n",
            "39 \t12    \t7.25518\t7.92448\n",
            "40 \t15    \t7.25518\t8.62376\n",
            "41 \t16    \t7.25518\t7.39936\n",
            "42 \t14    \t7.25518\t8.30279\n",
            "43 \t16    \t7.25518\t9.01805\n",
            "44 \t17    \t7.25518\t9.12021\n",
            "45 \t13    \t7.25518\t9.83384\n",
            "46 \t18    \t7.25518\t10.5756\n",
            "47 \t15    \t7.25518\t9.66672\n",
            "48 \t18    \t7.25518\t7.92216\n",
            "49 \t14    \t7.25518\t8.49224\n",
            "50 \t14    \t7.25518\t10.4501\n",
            "51 \t13    \t7.25518\t10.0663\n",
            "52 \t15    \t7.25518\t7.82901\n",
            "53 \t18    \t7.25518\t7.60383\n",
            "54 \t16    \t7.25518\t7.48624\n",
            "55 \t15    \t7.25518\t8.8833 \n",
            "56 \t11    \t7.25518\t10.1489\n",
            "57 \t14    \t7.25518\t9.41139\n",
            "58 \t12    \t7.25412\t7.83076\n",
            "59 \t15    \t7.2534 \t8.05451\n",
            "60 \t6     \t7.2534 \t8.37694\n",
            "61 \t14    \t7.25338\t10.3856\n",
            "62 \t16    \t7.25337\t9.34296\n",
            "63 \t15    \t7.25337\t11.5365\n",
            "64 \t18    \t7.25337\t7.45776\n",
            "65 \t9     \t7.25337\t8.81008\n",
            "66 \t15    \t7.25336\t10.4792\n",
            "67 \t16    \t7.25336\t10.7929\n",
            "68 \t16    \t7.25336\t9.63644\n",
            "69 \t16    \t7.25336\t9.01339\n",
            "70 \t14    \t7.25288\t8.44877\n",
            "71 \t18    \t7.25277\t7.92366\n",
            "72 \t7     \t7.25277\t11.8373\n",
            "73 \t12    \t7.25277\t12.6395\n",
            "74 \t13    \t7.25277\t17.3231\n",
            "75 \t14    \t7.25271\t9.97016\n",
            "76 \t14    \t7.25271\t9.96078\n",
            "77 \t16    \t7.25259\t10.0763\n",
            "78 \t15    \t7.25259\t8.95598\n",
            "79 \t15    \t7.25254\t8.25621\n",
            "80 \t17    \t7.25225\t9.97455\n",
            "81 \t13    \t7.25225\t10.271 \n",
            "82 \t15    \t7.2522 \t8.63534\n",
            "83 \t17    \t7.2522 \t10.7836\n",
            "84 \t14    \t7.2518 \t9.63753\n",
            "85 \t13    \t7.2518 \t14.5763\n",
            "86 \t16    \t7.25178\t8.8387 \n",
            "87 \t16    \t7.25178\t8.04779\n",
            "88 \t12    \t7.25178\t8.64428\n",
            "89 \t15    \t7.25178\t12.0254\n",
            "90 \t10    \t7.25174\t7.77359\n",
            "91 \t11    \t7.25173\t8.48873\n",
            "92 \t15    \t7.25173\t8.08263\n",
            "93 \t11    \t7.25173\t7.87425\n",
            "94 \t15    \t7.25173\t8.88489\n",
            "95 \t12    \t7.25173\t11.1688\n",
            "96 \t16    \t7.25173\t7.26987\n",
            "97 \t14    \t7.25173\t11.7287\n",
            "98 \t15    \t7.25173\t7.25173\n",
            "99 \t10    \t7.25173\t9.3044 \n"
          ]
        },
        {
          "output_type": "stream",
          "name": "stderr",
          "text": [
            "INFO:simplemc:\n",
            "Elapsed time: 0.271 minutes = 16.252 seconds\n"
          ]
        },
        {
          "output_type": "stream",
          "name": "stdout",
          "text": [
            "100\t15    \t7.25173\t7.88688\n",
            "-- Best Fitness =  7.251726926891076\n",
            "- Best solutions are:\n",
            "-- Best Om =  0.3222912305509723\n",
            "-- Best Obh2 =  0.022016648406663737\n",
            "-- Best h =  0.6791045936128557\n",
            "Hessian [[7.07996114e+02 0.00000000e+00 8.19428251e+02]\n",
            " [0.00000000e+00 4.72589792e+06 0.00000000e+00]\n",
            " [8.19428251e+02 0.00000000e+00 1.46730974e+03]] [1.84546091e+02+0.j 1.99075976e+03+0.j 4.72589792e+06+0.j]\n",
            "Covariance matrix \n",
            " [[ 3.99390836e-03 -0.00000000e+00 -2.23042298e-03]\n",
            " [ 0.00000000e+00  2.11600000e-07  0.00000000e+00]\n",
            " [-2.23042298e-03  0.00000000e+00  1.92711295e-03]]\n",
            "Om: 0.3223 +/- 0.0632\n",
            "Obh2: 0.0220 +/- 0.0005\n",
            "h: 0.6791 +/- 0.0439\n",
            "\n",
            "Information criterions:\n",
            "\n",
            "\tAIC: -8.5035\n"
          ]
        }
      ],
      "source": [
        "res1 = analyzer1.executer()"
      ]
    },
    {
      "cell_type": "code",
      "source": [
        "resx1 = res1['result']['param_fit']\n",
        "cov1 = res1['result']['cov']"
      ],
      "metadata": {
        "id": "HXklHia_nP9D"
      },
      "execution_count": 8,
      "outputs": []
    },
    {
      "cell_type": "code",
      "execution_count": 9,
      "metadata": {
        "id": "IohR3ItL03wZ",
        "colab": {
          "base_uri": "https://localhost:8080/"
        },
        "outputId": "f8d2c1da-ffec-44e9-942d-eb03795d205d"
      },
      "outputs": [
        {
          "output_type": "stream",
          "name": "stdout",
          "text": [
            "Loading  /content/src/simplemc/simplemc/data/HDiagramCompilacion-data_31.txt\n",
            "Loading  /content/src/simplemc/simplemc/data/HDiagramCompilacion-cov_31.txt\n",
            "Eigenvalues of cov matrix: [16.0, 25.0, 64.0] ... 3844.0\n",
            "Adding marginalising constant\n",
            "Free parameters:\n",
            "Om = 0.3038 +/- 0.05\n",
            "Obh2 = 0.02234 +/- 0.001\n",
            "h = 0.6821 +/- 0.05\n"
          ]
        }
      ],
      "source": [
        "analyzer2 = DriverMC(analyzername=\"maxlike\", model=\"LCDM\", datasets=\"HD\")"
      ]
    },
    {
      "cell_type": "code",
      "source": [
        "res2 = analyzer2.executer()"
      ],
      "metadata": {
        "colab": {
          "base_uri": "https://localhost:8080/"
        },
        "id": "sczpx3_TnFlp",
        "outputId": "6575e435-32f1-4fa4-e458-fe11197aa200"
      },
      "execution_count": 10,
      "outputs": [
        {
          "output_type": "stream",
          "name": "stdout",
          "text": [
            "Minimizing... [0.3038, 0.02234, 0.6821] with bounds [(0.1, 0.5), (0.02, 0.025), (0.4, 0.9)]\n",
            "      fun: 7.24997951408073\n",
            " hess_inv: <3x3 LbfgsInvHessProduct with dtype=float64>\n",
            "      jac: array([ 6.12843110e-06, -4.14868140e-04,  6.30606675e-06])\n",
            "  message: 'CONVERGENCE: REL_REDUCTION_OF_F_<=_FACTR*EPSMCH'\n",
            "     nfev: 68\n",
            "      nit: 10\n",
            "     njev: 17\n",
            "   status: 0\n",
            "  success: True\n",
            "        x: array([0.31931955, 0.02201999, 0.68167758]) with Errors = False\n"
          ]
        },
        {
          "output_type": "stream",
          "name": "stderr",
          "text": [
            "INFO:simplemc:\n",
            "Elapsed time: 0.004 minutes = 0.240 seconds\n"
          ]
        },
        {
          "output_type": "stream",
          "name": "stdout",
          "text": [
            "Hessian [[7.18729527e+02 0.00000000e+00 8.21876273e+02]\n",
            " [0.00000000e+00 4.72589792e+06 0.00000000e+00]\n",
            " [8.21876273e+02 0.00000000e+00 1.46014125e+03]] [1.87823808e+02+0.j 1.99104697e+03+0.j 4.72589792e+06+0.j]\n",
            "------\n",
            "Done.\n",
            "Optimal loglike :  7.24997951408073\n",
            "Om = 0.3193195452714862 +/- 0.05\n",
            "Obh2 = 0.022019994912207422 +/- 0.001\n",
            "h = 0.681677580955738 +/- 0.05\n",
            "------\n",
            "Done.\n",
            "Optimal loglike :  7.24997951408073\n",
            "Om: 0.3193 +/- 0.0625\n",
            "Obh2: 0.0220 +/- 0.0005\n",
            "h: 0.6817 +/- 0.0438\n",
            "\n",
            "Information criterions:\n",
            "\n",
            "\tAIC: -8.5000\n"
          ]
        }
      ]
    },
    {
      "cell_type": "code",
      "source": [
        "resx2 = res2['result']['param_fit']\n",
        "cov2 = res2['result']['cov']"
      ],
      "metadata": {
        "id": "1lXRGh13nJPh"
      },
      "execution_count": 11,
      "outputs": []
    },
    {
      "cell_type": "code",
      "source": [
        "idx_param1 = 0\n",
        "idx_param2 = 1\n",
        "\n",
        "fig = plt.figure(figsize=(4,4), dpi=100)\n",
        "ax1 = fig.add_subplot(111)\n",
        "\n",
        "e1 = plot_elipses(resx1, cov1, idx_param1, idx_param2, ax=ax1, axis_sty = '-g')\n",
        "\n",
        "e2 = plot_elipses(resx2, cov2, idx_param1, idx_param2, ax=ax1, \n",
        "             contour_col='b', axis_sty = '-b')\n",
        "\n",
        "plt.xlabel(r'$\\Omega_m$')\n",
        "plt.ylabel(r'$h$')\n",
        "# plt.ylim(0.4, 1.1)"
      ],
      "metadata": {
        "colab": {
          "base_uri": "https://localhost:8080/",
          "height": 485
        },
        "id": "maCkJtPanfpJ",
        "outputId": "491d1e10-6c19-4400-acc0-eb16199ea0e0"
      },
      "execution_count": 15,
      "outputs": [
        {
          "output_type": "stream",
          "name": "stdout",
          "text": [
            "-- vals, vecs --  [3.99390836e-03 2.11600000e-07] [[-1.  0.]\n",
            " [-0. -1.]]\n",
            "-- vals, vecs --  [3.90447571e-03 2.11600000e-07] [[-1.  0.]\n",
            " [-0. -1.]]\n"
          ]
        },
        {
          "output_type": "execute_result",
          "data": {
            "text/plain": [
              "Text(0, 0.5, '$h$')"
            ]
          },
          "metadata": {},
          "execution_count": 15
        },
        {
          "output_type": "display_data",
          "data": {
            "text/plain": [
              "<Figure size 400x400 with 1 Axes>"
            ],
            "image/png": "[encoded data removed]"
          },
          "metadata": {
            "needs_background": "light"
          }
        }
      ]
    },
    {
      "cell_type": "markdown",
      "metadata": {
        "id": "u6JiQIPQXnpJ"
      },
      "source": [
        "# 3. Bayesian Inference"
      ]
    },
    {
      "cell_type": "code",
      "execution_count": 12,
      "metadata": {
        "id": "gvVtCbulXrkJ"
      },
      "outputs": [],
      "source": [
        "from simplemc.DriverMC import DriverMC\n",
        "from simplemc.plots import Simple_Plots\n",
        "from getdist import plots, MCSamples\n",
        "import getdist"
      ]
    },
    {
      "cell_type": "markdown",
      "metadata": {
        "id": "nSYzaUR5XzGo"
      },
      "source": [
        "**MCMC**"
      ]
    },
    {
      "cell_type": "code",
      "execution_count": 39,
      "metadata": {
        "colab": {
          "base_uri": "https://localhost:8080/"
        },
        "id": "vz-kGrr-X1We",
        "outputId": "54149cfd-440c-42a0-9c78-ce4403577bdd"
      },
      "outputs": [
        {
          "output_type": "stream",
          "name": "stdout",
          "text": [
            "Loading  /content/src/simplemc/simplemc/data/HDiagramCompilacion-data_31.txt\n",
            "Loading  /content/src/simplemc/simplemc/data/HDiagramCompilacion-cov_31.txt\n",
            "Eigenvalues of cov matrix: [16.0, 25.0, 64.0] ... 3844.0\n",
            "Adding marginalising constant\n",
            "Loading  /content/src/simplemc/simplemc/data/jla_binned_distances_31nodes_v1.txt\n",
            "Loading  /content/src/simplemc/simplemc/data/cov_jla_binned_distances_31nodes_v1.txt\n",
            "Eigenvalues of cov matrix: [0.0005070806003107862, 0.0005683516014088379, 0.0007392509073862131] ... 0.036459822761285926\n",
            "Adding marginalising constant\n",
            "Free parameters:\n",
            "Om = 0.3038 +/- 0.05\n",
            "Obh2 = 0.02234 +/- 0.001\n",
            "h = 0.6821 +/- 0.05\n"
          ]
        }
      ],
      "source": [
        "analysis1 = DriverMC(analyzername='mcmc', model='LCDM', datasets='HD+SN', mcevidence=True)"
      ]
    },
    {
      "cell_type": "code",
      "execution_count": 40,
      "metadata": {
        "colab": {
          "base_uri": "https://localhost:8080/"
        },
        "id": "UXI2b9RvX3b_",
        "outputId": "41104578-fd84-418e-f348-1147c76fadf3"
      },
      "outputs": [
        {
          "output_type": "stream",
          "name": "stderr",
          "text": [
            "INFO:simplemc:\n",
            "\tnsamp: 1000\n",
            "\tskip: 300\n",
            "\ttemp: 2\n",
            "\tmcevidence: True\n",
            "\tGRstop: 0.01\n"
          ]
        },
        {
          "output_type": "stream",
          "name": "stdout",
          "text": [
            "Hello, World! I am process 0 of 1 on e6bff32e8cbd\n",
            "Bounds: [0.1  0.02 0.4 ] [0.5   0.025 0.9  ]\n",
            "Starting chain...\n",
            "\n",
            "Re-initializing covariance matrix after burn-in\n",
            "[[ 1.05947940e-03 -3.83016493e-07 -8.03206155e-04]\n",
            " [-3.83016493e-07  1.34969343e-07 -2.08584760e-06]\n",
            " [-8.03206155e-04 -2.08584760e-06  8.39861330e-04]]\n",
            "\n",
            "Number of steps achieved\n"
          ]
        },
        {
          "output_type": "stream",
          "name": "stderr",
          "text": [
            "INFO:simplemc.analyzers.MCEvidence:Loading chain from simplemc/chains/LCDM_phy_HD+SN_mcmc\n",
            "INFO:simplemc.analyzers.MCEvidence: loading files: simplemc/chains/LCDM_phy_HD+SN_mcmc_?.txt\n",
            "INFO:simplemc.analyzers.MCEvidence:loading: simplemc/chains/LCDM_phy_HD+SN_mcmc_1.txt\n",
            "INFO:simplemc.analyzers.MCEvidence:chain array dimensions: [701] x 3 =\n",
            "INFO:simplemc.analyzers.MCEvidence:Estimating covariance matrix using all chains\n",
            "INFO:simplemc.analyzers.MCEvidence:covariance matrix estimated using nsample=701\n",
            "INFO:simplemc.analyzers.MCEvidence:getting samples for partition s1: nsamples=701\n",
            "INFO:simplemc.analyzers.MCEvidence:   ln(B)[k=1] = -35.69729501354095\n",
            "INFO:simplemc.analyzers.MCEvidence:   ln(B)[k=2] = -35.742856194426786\n",
            "INFO:simplemc.analyzers.MCEvidence:   ln(B)[k=3] = -35.74345974331243\n",
            "INFO:simplemc.analyzers.MCEvidence:   ln(B)[k=4] = -35.76242159978622\n"
          ]
        },
        {
          "output_type": "stream",
          "name": "stdout",
          "text": [
            "\n",
            "Covariance matrix saved in .covmat file\n",
            " [[ 8.63522357e-04  5.21701025e-07 -4.49468027e-04]\n",
            " [ 5.21701025e-07  1.76026485e-07 -1.25461994e-06]\n",
            " [-4.49468027e-04 -1.25461994e-06  8.54248935e-04]] \n",
            "\n"
          ]
        },
        {
          "output_type": "stream",
          "name": "stderr",
          "text": [
            "WARNING:root:outlier fraction 0.12553495007132667 \n"
          ]
        },
        {
          "output_type": "stream",
          "name": "stdout",
          "text": [
            "simplemc/chains/LCDM_phy_HD+SN_mcmc_1.txt\n",
            "Removed no burn in\n"
          ]
        },
        {
          "output_type": "stream",
          "name": "stderr",
          "text": [
            "INFO:simplemc:\n",
            "Elapsed time: 2.188 minutes = 131.268 seconds\n"
          ]
        },
        {
          "output_type": "stream",
          "name": "stdout",
          "text": [
            "\n",
            "getdist cov\n",
            " [[ 8.60726052e-04  5.55465484e-07 -4.47543861e-04]\n",
            " [ 5.55465484e-07  1.74978554e-07 -1.26001114e-06]\n",
            " [-4.47543861e-04 -1.26001114e-06  8.48121394e-04]] \n",
            "\n",
            "Om: 0.3068 +/- 0.0294\n",
            "Obh2: 0.0221 +/- 0.0004\n",
            "h: 0.6929 +/- 0.0292\n",
            "\n",
            "Information criterions:\n",
            "\n",
            "\tAIC: 53.8434\n"
          ]
        }
      ],
      "source": [
        "res1 = analysis1.executer(GRstop=0.01, nsamp=1000)"
      ]
    },
    {
      "cell_type": "code",
      "execution_count": 37,
      "metadata": {
        "id": "YskWtphAX6U_",
        "outputId": "54a4d5f2-f256-4afc-c1f2-731f5e9b5fbb",
        "colab": {
          "base_uri": "https://localhost:8080/"
        }
      },
      "outputs": [
        {
          "output_type": "execute_result",
          "data": {
            "text/plain": [
              "['$\\\\Omega_m$', '$\\\\Omega_{b}h^2$', '$h$']"
            ]
          },
          "metadata": {},
          "execution_count": 37
        }
      ],
      "source": [
        "pars_labels = ['${}$'.format(p.Ltxname) for p in analysis1.pars_info]\n",
        "pars_labels"
      ]
    },
    {
      "cell_type": "code",
      "execution_count": 38,
      "metadata": {
        "id": "zJ0LiWlIX896"
      },
      "outputs": [],
      "source": [
        "samples1 = res1['result']['samples']\n",
        "weights1 = res1['result']['weights']"
      ]
    },
    {
      "cell_type": "code",
      "execution_count": 21,
      "metadata": {
        "id": "x_81SMAlYAMx"
      },
      "outputs": [],
      "source": [
        "om1 = res1['result']['samples'][:,0]\n",
        "obh21 = res1['result']['samples'][:,1]\n",
        "h1 = res1['result']['samples'][:,2]"
      ]
    },
    {
      "cell_type": "code",
      "execution_count": null,
      "metadata": {
        "id": "NxOe9p9VYEHR"
      },
      "outputs": [],
      "source": [
        ""
      ]
    },
    {
      "cell_type": "markdown",
      "metadata": {
        "id": "YUQ1UF2OYGw9"
      },
      "source": [
        "\n",
        "**Nested Sampling**"
      ]
    },
    {
      "cell_type": "code",
      "execution_count": 22,
      "metadata": {
        "colab": {
          "base_uri": "https://localhost:8080/"
        },
        "id": "SvoNH6h9YJx-",
        "outputId": "9e233591-5f28-44a4-9753-c0c01709e5ee"
      },
      "outputs": [
        {
          "output_type": "stream",
          "name": "stdout",
          "text": [
            "Loading  /content/src/simplemc/simplemc/data/HDiagramCompilacion-data_31.txt\n",
            "Loading  /content/src/simplemc/simplemc/data/HDiagramCompilacion-cov_31.txt\n",
            "Eigenvalues of cov matrix: [16.0, 25.0, 64.0] ... 3844.0\n",
            "Adding marginalising constant\n",
            "Loading  /content/src/simplemc/simplemc/data/jla_binned_distances_31nodes_v1.txt\n",
            "Loading  /content/src/simplemc/simplemc/data/cov_jla_binned_distances_31nodes_v1.txt\n",
            "Eigenvalues of cov matrix: [0.0005070806003107862, 0.0005683516014088379, 0.0007392509073862131] ... 0.036459822761285926\n",
            "Adding marginalising constant\n",
            "Free parameters:\n",
            "Om = 0.3038 +/- 0.05\n",
            "Obh2 = 0.02234 +/- 0.001\n",
            "h = 0.6821 +/- 0.05\n"
          ]
        }
      ],
      "source": [
        "analysis2 = DriverMC(analyzername='nested', model='LCDM', datasets='HD+SN')"
      ]
    },
    {
      "cell_type": "code",
      "execution_count": 23,
      "metadata": {
        "colab": {
          "base_uri": "https://localhost:8080/"
        },
        "id": "C0Z9IFoWYQKG",
        "outputId": "e3129d5c-3f0c-4b1c-a920-be44e404e019"
      },
      "outputs": [
        {
          "output_type": "stream",
          "name": "stderr",
          "text": [
            "INFO:simplemc:Using 1 processor\n",
            "INFO:simplemc:\n",
            "\tnlivepoints: 100\n",
            "\taccuracy: 0.01\n",
            "\tnested type: multi\n"
          ]
        },
        {
          "output_type": "stream",
          "name": "stdout",
          "text": [
            "it: 971 | ncall: 5153 | eff: 18.863 | logz: -28.9751 | dlogz: 0.0100 | loglstar: -23.9530 | point 0.29383738 0.02200326 0.69509915"
          ]
        },
        {
          "output_type": "stream",
          "name": "stderr",
          "text": [
            "WARNING:root:outlier fraction 0.2288135593220339 \n",
            "INFO:simplemc:\n",
            "Elapsed time: 7.745 minutes = 464.727 seconds\n"
          ]
        },
        {
          "output_type": "stream",
          "name": "stdout",
          "text": [
            "\n",
            "Covariance matrix saved in .covmat file\n",
            " [[ 7.87044741e-04  2.49409623e-08 -4.22738235e-04]\n",
            " [ 2.49409623e-08  1.95239946e-07 -1.97358298e-07]\n",
            " [-4.22738235e-04 -1.97358298e-07  8.91183314e-04]] \n",
            "\n",
            "simplemc/chains/LCDM_phy_HD+SN_nested_multi_1.txt\n",
            "Removed no burn in\n",
            "\n",
            "getdist cov\n",
            " [[ 7.85328497e-04  2.48851587e-08 -4.21816406e-04]\n",
            " [ 2.48851587e-08  1.94814132e-07 -1.96930714e-07]\n",
            " [-4.21816406e-04 -1.96930714e-07  8.89239992e-04]] \n",
            "\n",
            "Om: 0.3059 +/- 0.0281\n",
            "Obh2: 0.0220 +/- 0.0004\n",
            "h: 0.6908 +/- 0.0299\n",
            "\n",
            "Information criterions:\n",
            "\n",
            "\tAIC: 53.8198\n"
          ]
        }
      ],
      "source": [
        "res2 = analysis2.executer(nlivepoints=100)"
      ]
    },
    {
      "cell_type": "code",
      "execution_count": 25,
      "metadata": {
        "id": "KkuKhTgzYSaR"
      },
      "outputs": [],
      "source": [
        "samples2 = res2['result']['samples']\n",
        "weights2 = res2['result']['weights']\n",
        "om2 = res2['result']['samples'][:,0]\n",
        "obh22 = res2['result']['samples'][:,1]\n",
        "h2 = res2['result']['samples'][:,2]"
      ]
    },
    {
      "cell_type": "markdown",
      "metadata": {
        "id": "vfhHIkm6YgEJ"
      },
      "source": [
        "**Plot with GetDist**"
      ]
    },
    {
      "cell_type": "code",
      "execution_count": 26,
      "metadata": {
        "id": "sFpXIomOYkIh",
        "outputId": "d1a48552-73f7-4fc8-da3d-23ada550f929",
        "colab": {
          "base_uri": "https://localhost:8080/"
        }
      },
      "outputs": [
        {
          "output_type": "execute_result",
          "data": {
            "text/plain": [
              "(['\\\\Omega_m', '\\\\Omega_{b}h^2', 'h'], (700, 3))"
            ]
          },
          "metadata": {},
          "execution_count": 26
        }
      ],
      "source": [
        "# names = [\"SN+BBAO\", \"SN+HD\", \"SN+HD+BBAO\", \"SN+HD+BBAO+Planck\"]\n",
        "labels =  ['{}'.format(p.Ltxname) for p in analysis1.pars_info]\n",
        "labels, np.shape(samples1)"
      ]
    },
    {
      "cell_type": "code",
      "execution_count": 29,
      "metadata": {
        "colab": {
          "base_uri": "https://localhost:8080/"
        },
        "id": "S1IKvIYQcN43",
        "outputId": "f8e0a0c9-4ffa-4bf9-eb36-2d682772b735"
      },
      "outputs": [
        {
          "output_type": "stream",
          "name": "stdout",
          "text": [
            "Removed no burn in\n",
            "Removed no burn in\n"
          ]
        }
      ],
      "source": [
        "samp1 = MCSamples(samples=samples1, names=labels, labels = labels, label='MCMC')\n",
        "samp2 = MCSamples(samples=samples2, names = labels, labels = labels, label='Nested Sampling')"
      ]
    },
    {
      "cell_type": "code",
      "execution_count": 31,
      "metadata": {
        "colab": {
          "base_uri": "https://localhost:8080/",
          "height": 441
        },
        "id": "6ourX8nzYsod",
        "outputId": "635b7100-ff53-4d03-e983-5b25024c5afb"
      },
      "outputs": [
        {
          "output_type": "display_data",
          "data": {
            "text/plain": [
              "<Figure size 432x432 with 6 Axes>"
            ],
            "image/png": "[encoded data removed]"
          },
          "metadata": {
            "needs_background": "light"
          }
        }
      ],
      "source": [
        "# Triangle plot\n",
        "g = plots.get_subplot_plotter()\n",
        "g.triangle_plot([samp1, samp2], filled=False, line_args={'lw':2},\n",
        "                colors=['green', 'red', 'indigo'],\n",
        "                settings={ 'smooth_scale_2D':0.1, 'smooth_scale_1D':0.1},)"
      ]
    },
    {
      "cell_type": "code",
      "execution_count": 34,
      "metadata": {
        "colab": {
          "base_uri": "https://localhost:8080/",
          "height": 297
        },
        "id": "1luWYsWqYvlZ",
        "outputId": "7bcf0b7e-5637-4ae9-e361-ac5f0a80c73e"
      },
      "outputs": [
        {
          "output_type": "display_data",
          "data": {
            "text/plain": [
              "<Figure size 432x288 with 1 Axes>"
            ],
            "image/png": "[encoded data removed]"
          },
          "metadata": {
            "needs_background": "light"
          }
        }
      ],
      "source": [
        "\n",
        "g = plots.get_single_plotter(width_inch=6, ratio= 2. / 3.)\n",
        "g.settings.legend_fontsize = 12\n",
        "g.plot_2d([samp1, samp2], labels[0], labels[2], filled=False, line_args={'lw':1},\n",
        "          colors=['green', 'red'], smooth_s=0.8)\n",
        "\n",
        "g.add_legend(['MCMC', 'Nested Sampling'], legend_loc='upper right');"
      ]
    },
    {
      "cell_type": "code",
      "execution_count": null,
      "metadata": {
        "id": "311murcUYzHN"
      },
      "outputs": [],
      "source": [
        ""
      ]
    },
    {
      "cell_type": "markdown",
      "source": [
        "# 4. Using a ini file\n",
        "\n",
        "Excercise:\n",
        "\n",
        "  - Explore the ``baseConfig.ini`` file.\n",
        "  - Generate an ini file and run it with the ``DriverMC class``."
      ],
      "metadata": {
        "id": "ylZT57IZAi8_"
      }
    },
    {
      "cell_type": "code",
      "source": [
        "from simplemc.DriverMC import DriverMC"
      ],
      "metadata": {
        "id": "M7E4S0n-A4Xj"
      },
      "execution_count": null,
      "outputs": []
    },
    {
      "cell_type": "code",
      "source": [
        "path_ini = \"/content/src/simplemc/\"\n",
        "inifile = \"prueba.ini\"\n",
        "\n",
        "analyzer = DriverMC(iniFile=path_ini+inifile)\n",
        "res = analyzer.executer()"
      ],
      "metadata": {
        "id": "U8LgtNRkBHwA",
        "outputId": "b8d56efe-f0fc-4054-ebab-1baff42e9a22",
        "colab": {
          "base_uri": "https://localhost:8080/"
        }
      },
      "execution_count": 36,
      "outputs": [
        {
          "output_type": "stream",
          "name": "stderr",
          "text": [
            "INFO:simplemc:Using 2 processors of 2 .\n"
          ]
        },
        {
          "output_type": "stream",
          "name": "stdout",
          "text": [
            "Loading  /content/src/simplemc/simplemc/data/HDiagramCompilacion-data_31.txt\n",
            "Loading  /content/src/simplemc/simplemc/data/HDiagramCompilacion-cov_31.txt\n",
            "Eigenvalues of cov matrix: [16.0, 25.0, 64.0] ... 3844.0\n",
            "Adding marginalising constant\n",
            "Free parameters:\n",
            "Om = 0.3038 +/- 0.05\n",
            "Obh2 = 0.02234 +/- 0.001\n",
            "h = 0.6821 +/- 0.05\n"
          ]
        },
        {
          "output_type": "stream",
          "name": "stderr",
          "text": [
            "INFO:simplemc:\n",
            "\tnlivepoints: 50\n",
            "\taccuracy: 0.5\n",
            "\tnested type: multi\n"
          ]
        },
        {
          "output_type": "stream",
          "name": "stdout",
          "text": [
            "it: 243 | ncall: 1891 | eff: 12.903 | logz: -11.6660 | dlogz: 0.5038 | loglstar: -8.0818 | point 0.40507792 0.02221343 0.6332958 "
          ]
        },
        {
          "output_type": "stream",
          "name": "stderr",
          "text": [
            "WARNING:root:outlier fraction 0.06143344709897611 \n",
            "INFO:simplemc:\n",
            "Elapsed time: 0.180 minutes = 10.790 seconds\n"
          ]
        },
        {
          "output_type": "stream",
          "name": "stdout",
          "text": [
            "\n",
            "Covariance matrix saved in .covmat file\n",
            " [[ 4.09219584e-03  2.07260195e-06 -2.41602224e-03]\n",
            " [ 2.07260195e-06  1.98744210e-07 -6.96170067e-07]\n",
            " [-2.41602224e-03 -6.96170067e-07  2.09201120e-03]] \n",
            "\n",
            "/content/src/simplemc/simplemc/chains/LCDM_phy_HD_nested_multi_1.txt\n",
            "Removed no burn in\n",
            "\n",
            "getdist cov\n",
            " [[ 4.06946653e-03  2.06107760e-06 -2.40260290e-03]\n",
            " [ 2.06107760e-06  1.97640134e-07 -6.92294367e-07]\n",
            " [-2.40260290e-03 -6.92294367e-07  2.08039151e-03]] \n",
            "\n",
            "Om: 0.3305 +/- 0.0640\n",
            "Obh2: 0.0220 +/- 0.0004\n",
            "h: 0.6776 +/- 0.0457\n",
            "\n",
            "Information criterions:\n",
            "\n",
            "\tAIC: 20.5656\n"
          ]
        },
        {
          "output_type": "execute_result",
          "data": {
            "text/plain": [
              "{'analyzer': 'nested',\n",
              " 'dynamic': False,\n",
              " 'nested_algorithm': 'multi',\n",
              " 'result': {'%eff': 15.547329455314648,\n",
              "  'loglikes': array([93.87033516, 77.81761215, 65.59689282, 65.02420781, 58.55465651,\n",
              "         56.10125839, 53.91780577, 53.47759338, 52.04517897, 49.43713478,\n",
              "         46.88477521, 44.62170413, 44.37778464, 42.00403806, 41.6945765 ,\n",
              "         41.07092149, 40.89617324, 38.48714014, 37.64103601, 36.81412135,\n",
              "         36.53597267, 36.24402426, 35.55435435, 33.94040606, 32.89654569,\n",
              "         31.93377959, 31.41736871, 30.88517976, 29.79209463, 29.4959361 ,\n",
              "         29.36141301, 28.85240007, 28.12796081, 27.95846836, 27.8004978 ,\n",
              "         27.6854221 , 26.90059284, 26.37868653, 26.21555974, 25.78183564,\n",
              "         25.41073891, 25.15990505, 24.91436097, 24.76567952, 24.39446153,\n",
              "         24.01760191, 23.45830911, 23.16777883, 22.683997  , 21.7993522 ,\n",
              "         21.57151201, 20.65415665, 20.44320955, 20.21448281, 19.59928749,\n",
              "         19.34330693, 18.96272657, 18.9255448 , 18.61417906, 18.45383417,\n",
              "         18.40682663, 18.37115044, 18.32433036, 18.29632246, 17.95646459,\n",
              "         17.68190604, 17.64398499, 17.36563527, 17.33586564, 16.80253125,\n",
              "         16.76810715, 16.67119524, 16.59939063, 16.37208744, 16.28703602,\n",
              "         16.25921641, 16.09639516, 16.06327379, 15.97572777, 15.64428406,\n",
              "         15.42642601, 15.33897606, 15.16698261, 14.82978584, 14.81824267,\n",
              "         14.80892015, 14.35687919, 14.26743332, 14.19749601, 14.16276072,\n",
              "         14.05803438, 13.86110377, 13.61421155, 13.07391668, 13.03260306,\n",
              "         12.78881146, 12.41668511, 12.29344923, 12.14852239, 12.12167356,\n",
              "         12.05850577, 11.95143863, 11.94260695, 11.68230734, 11.60951409,\n",
              "         11.57371479, 11.57086851, 11.50125562, 11.49419489, 11.46543874,\n",
              "         11.41900128, 11.41092069, 11.36567063, 11.34508398, 11.13037076,\n",
              "         11.11766102, 11.10600449, 10.99206542, 10.99096751, 10.94765788,\n",
              "         10.92793399, 10.85620709, 10.80862791, 10.77448838, 10.73222299,\n",
              "         10.71681916, 10.67885789, 10.60861403, 10.55660461, 10.55295125,\n",
              "         10.49138122, 10.4730043 , 10.32709201, 10.32034984, 10.29030019,\n",
              "         10.21956297, 10.11726815, 10.1123428 , 10.05785497, 10.05457289,\n",
              "         10.02857001,  9.97377394,  9.96551423,  9.94747733,  9.87518918,\n",
              "          9.83497124,  9.81443291,  9.76602554,  9.76595546,  9.71716056,\n",
              "          9.62224908,  9.58814318,  9.56677555,  9.52585205,  9.52081253,\n",
              "          9.43328847,  9.38936653,  9.38792261,  9.33833589,  9.33452271,\n",
              "          9.29338154,  9.27007479,  9.251142  ,  9.22883393,  9.19263405,\n",
              "          9.17954676,  9.17007763,  9.15057527,  9.11189767,  9.00502109,\n",
              "          8.94373465,  8.9038541 ,  8.89982157,  8.89044875,  8.88659714,\n",
              "          8.85495454,  8.84829408,  8.84566366,  8.84244717,  8.83857216,\n",
              "          8.82032971,  8.81865951,  8.79324939,  8.77550188,  8.75859887,\n",
              "          8.74480907,  8.74453668,  8.68256893,  8.65955688,  8.63885717,\n",
              "          8.62076995,  8.60027839,  8.59264585,  8.58710978,  8.57409659,\n",
              "          8.56690809,  8.54771265,  8.54397464,  8.53438534,  8.52304178,\n",
              "          8.51531762,  8.49332798,  8.48738952,  8.48729883,  8.48439559,\n",
              "          8.47891886,  8.46850744,  8.46494082,  8.44853684,  8.44779247,\n",
              "          8.44357273,  8.44186237,  8.4379525 ,  8.40376424,  8.3649135 ,\n",
              "          8.35275334,  8.3519023 ,  8.34526749,  8.34465876,  8.33301466,\n",
              "          8.33121061,  8.28898186,  8.28113701,  8.28065607,  8.26369894,\n",
              "          8.23329512,  8.23271915,  8.21340022,  8.2130191 ,  8.20676058,\n",
              "          8.19870839,  8.19453153,  8.17724543,  8.17227098,  8.17176734,\n",
              "          8.16124329,  8.11969749,  8.10251378,  8.10234683,  8.09917235,\n",
              "          8.08668809,  8.08221402,  8.08219314,  8.0818043 ,  8.04167327,\n",
              "          8.03835341,  8.01086594,  8.0104094 ,  7.99403036,  7.94822972,\n",
              "          7.94691322,  7.9441599 ,  7.94298487,  7.93734024,  7.9199381 ,\n",
              "          7.89892661,  7.89668407,  7.87940754,  7.85700882,  7.84946748,\n",
              "          7.84506936,  7.83544213,  7.83414856,  7.81421057,  7.79176548,\n",
              "          7.78848168,  7.77906083,  7.7698973 ,  7.72463596,  7.72257948,\n",
              "          7.70152033,  7.68684077,  7.68490455,  7.66210263,  7.65745134,\n",
              "          7.65336516,  7.6520386 ,  7.64503186,  7.6403465 ,  7.63736898,\n",
              "          7.63233332,  7.63204303,  7.62277989,  7.58963026,  7.51443485,\n",
              "          7.44418425,  7.44147607,  7.42829968,  7.42677132,  7.37323392,\n",
              "          7.35022454,  7.34239449,  7.31107059,  7.28281099]),\n",
              "  'logwt': array([-98.49530797, -82.46238748, -70.26146596, -69.26133609,\n",
              "         -63.25729111, -60.74274234, -58.55484807, -57.74411333,\n",
              "         -56.61448466, -54.16924064, -51.63276178, -49.36553826,\n",
              "         -48.66178282, -46.79739884, -46.04644635, -45.56376391,\n",
              "         -45.22840276, -43.36266967, -42.2654229 , -41.45251044,\n",
              "         -40.99328537, -40.72706266, -40.20835942, -38.83926807,\n",
              "         -37.69512791, -36.73040559, -36.08929702, -35.58277774,\n",
              "         -34.68247428, -34.13919329, -33.95231865, -33.62057056,\n",
              "         -32.99147486, -32.62494024, -32.48148194, -32.36622315,\n",
              "         -31.86263159, -31.27049381, -30.97812599, -30.67949324,\n",
              "         -30.30310178, -30.02121116, -29.79315136, -29.62059812,\n",
              "         -29.36608442, -29.01132676, -28.54210019, -28.165079  ,\n",
              "         -27.77926498, -27.04903717, -26.60091419, -25.95289528,\n",
              "         -25.5046933 , -25.30368577, -24.86147222, -24.48409886,\n",
              "         -24.17579256, -24.00453827, -23.83817001, -23.63097689,\n",
              "         -23.55003749, -23.52861535, -23.50705494, -23.48961951,\n",
              "         -23.31121834, -23.02878837, -22.90156481, -22.75375808,\n",
              "         -22.62904397, -22.33226325, -22.10318063, -22.05628983,\n",
              "         -21.99226338, -21.85671197, -21.72587784, -21.69005216,\n",
              "         -21.6113209 , -21.53632529, -21.49497361, -21.29256963,\n",
              "         -21.04546978, -20.91758385, -20.80492724, -20.55968204,\n",
              "         -20.41924393, -20.4286195 , -20.19242318, -19.96581073,\n",
              "         -19.90631022, -19.87423702, -19.82308931, -19.6885939 ,\n",
              "         -19.48372481, -19.08147965, -18.84631913, -18.71637152,\n",
              "         -18.41841535, -18.20585047, -18.09084574, -18.02729361,\n",
              "         -18.00167934, -17.93543095, -17.89870666, -17.77550771,\n",
              "         -17.63654738, -17.60255575, -17.60319476, -17.5861632 ,\n",
              "         -17.5682284 , -17.57002546, -17.55206512, -17.54487008,\n",
              "         -17.53775963, -17.52484685, -17.42130083, -17.33312347,\n",
              "         -17.34074617, -17.29614609, -17.26005197, -17.25741653,\n",
              "         -17.24588822, -17.21937112, -17.17988072, -17.15896125,\n",
              "         -17.14048382, -17.13164546, -17.12461508, -17.08987861,\n",
              "         -17.04883316, -17.04114082, -17.02785964, -17.00812036,\n",
              "         -16.94316165, -16.88929031, -16.89058983, -16.85948656,\n",
              "         -16.79209105, -16.75958802, -16.74931602, -16.74060341,\n",
              "         -16.74568039, -16.72479278, -16.71343427, -16.72005645,\n",
              "         -16.69408416, -16.65808463, -16.64765857, -16.63274819,\n",
              "         -16.62860497, -16.62367752, -16.57079895, -16.52707309,\n",
              "         -16.51922728, -16.50773208, -16.50475935, -16.47732611,\n",
              "         -16.43212187, -16.42948243, -16.42346268, -16.41687086,\n",
              "         -16.41398657, -16.4017089 , -16.40041485, -16.39957964,\n",
              "         -16.3900267 , -16.38532813, -16.39386275, -16.3991433 ,\n",
              "         -16.3897165 , -16.33550188, -16.27218072, -16.24167048,\n",
              "         -16.23971333, -16.25280433, -16.26600387, -16.2679361 ,\n",
              "         -16.2687068 , -16.28386867, -16.30074741, -16.3170037 ,\n",
              "         -16.32570788, -16.33559543, -16.34177754, -16.34004269,\n",
              "         -16.34252372, -16.34699188, -16.35978718, -16.34798982,\n",
              "         -16.32571628, -16.32367566, -16.32409749, -16.32459913,\n",
              "         -16.33038491, -16.34360668, -16.35411734, -16.36383384,\n",
              "         -16.3704049 , -16.37878511, -16.39191434, -16.40124594,\n",
              "         -16.41152333, -16.41641608, -16.42231069, -16.43910315,\n",
              "         -16.45740776, -16.47301771, -16.48486646, -16.49769202,\n",
              "         -16.50747731, -16.51873933, -16.53605774, -16.55289718,\n",
              "         -16.56988814, -16.57049752, -16.55373809, -16.54820544,\n",
              "         -16.56152086, -16.57757515, -16.59376146, -16.60742077,\n",
              "         -16.62051587, -16.61807961, -16.61306063, -16.62870803,\n",
              "         -16.63975571, -16.63579826, -16.6402265 , -16.65003506,\n",
              "         -16.6600343 , -16.67651223, -16.68915629, -16.70285032,\n",
              "         -16.71188629, -16.72059291, -16.73765955, -16.75193452,\n",
              "         -16.74550032, -16.73611703, -16.74728123, -16.76541189,\n",
              "         -16.77736692, -16.78870736, -16.80626502, -16.82586277,\n",
              "         -16.82520418, -16.80367866, -16.78818193, -16.77430434,\n",
              "         -16.76585304, -16.73453455, -16.71123795, -16.70920231,\n",
              "         -16.7072389 , -16.70382526, -16.69226801, -16.67304386,\n",
              "         -16.6614714 , -16.65167519, -16.63181216, -16.61689773,\n",
              "         -16.61093269, -16.60391085, -16.59846183, -16.58779657,\n",
              "         -16.56659174, -16.55378892, -16.54742685, -16.53813526,\n",
              "         -16.51067727, -16.48727388, -16.47566116, -16.45782031,\n",
              "         -16.44953888, -16.43710529, -16.42344097, -16.41907285,\n",
              "         -16.41636835, -16.41219578, -16.40635313, -16.40252333,\n",
              "         -16.39851467, -16.39585485, -16.39106743, -16.36973441,\n",
              "         -16.31499262, -16.24235948, -16.20649594, -16.19853287,\n",
              "         -16.1912019 , -16.16331107, -16.12532974, -16.10996854,\n",
              "         -16.09027659, -16.06050766]),\n",
              "  'logz': -11.322795157082927,\n",
              "  'logzerr': 0.34676900433654206,\n",
              "  'maxlike': 7.282810991800481,\n",
              "  'ncall': 1891,\n",
              "  'niter': 243,\n",
              "  'nlive': 50,\n",
              "  'samples': array([[0.11494034, 0.0225238 , 0.42655716],\n",
              "         [0.1502287 , 0.02428558, 0.47877296],\n",
              "         [0.12433969, 0.02015301, 0.52663207],\n",
              "         [0.18327909, 0.02099089, 0.46677848],\n",
              "         [0.44220541, 0.02408269, 0.83240975],\n",
              "         [0.39054641, 0.02007054, 0.86350234],\n",
              "         [0.25191536, 0.02431347, 0.49474903],\n",
              "         [0.33172728, 0.02023559, 0.44689666],\n",
              "         [0.43123969, 0.02178661, 0.40051027],\n",
              "         [0.45081266, 0.02031482, 0.81042774],\n",
              "         [0.166301  , 0.02299959, 0.53726308],\n",
              "         [0.13612568, 0.02406086, 0.60812395],\n",
              "         [0.15590185, 0.02017039, 0.58032239],\n",
              "         [0.23480979, 0.02455485, 0.56203835],\n",
              "         [0.39935585, 0.02012029, 0.81442586],\n",
              "         [0.37765897, 0.02471389, 0.79316762],\n",
              "         [0.34808115, 0.02215106, 0.87519471],\n",
              "         [0.10676383, 0.02478762, 0.8075858 ],\n",
              "         [0.28893276, 0.02008975, 0.87512443],\n",
              "         [0.12408834, 0.02485525, 0.8372552 ],\n",
              "         [0.47806842, 0.02456968, 0.49061939],\n",
              "         [0.20901712, 0.02021294, 0.57174046],\n",
              "         [0.11442181, 0.02199136, 0.63177638],\n",
              "         [0.14774996, 0.02359365, 0.6307374 ],\n",
              "         [0.25616759, 0.0211082 , 0.53155241],\n",
              "         [0.49296498, 0.02401536, 0.48070644],\n",
              "         [0.41858166, 0.02164623, 0.79445109],\n",
              "         [0.1276753 , 0.02402932, 0.71229824],\n",
              "         [0.31050379, 0.02194096, 0.50976233],\n",
              "         [0.32615885, 0.02356759, 0.82770642],\n",
              "         [0.22603258, 0.0238772 , 0.88022034],\n",
              "         [0.35350374, 0.02280703, 0.5019749 ],\n",
              "         [0.45978136, 0.02378656, 0.72610594],\n",
              "         [0.4672038 , 0.02004065, 0.50583593],\n",
              "         [0.19723441, 0.02463859, 0.70834845],\n",
              "         [0.22102922, 0.02294196, 0.57680522],\n",
              "         [0.19323097, 0.02466141, 0.7621865 ],\n",
              "         [0.45872288, 0.02166428, 0.4741939 ],\n",
              "         [0.19448749, 0.02359037, 0.62823815],\n",
              "         [0.19185593, 0.02105363, 0.61119338],\n",
              "         [0.22162508, 0.02075448, 0.59775426],\n",
              "         [0.23060667, 0.02043027, 0.86568312],\n",
              "         [0.2135135 , 0.0236804 , 0.86940413],\n",
              "         [0.15968725, 0.02036957, 0.88220522],\n",
              "         [0.14680628, 0.0238133 , 0.72564202],\n",
              "         [0.10218669, 0.0231143 , 0.81888671],\n",
              "         [0.18661112, 0.02266125, 0.62252563],\n",
              "         [0.21480587, 0.02052702, 0.62645994],\n",
              "         [0.22054229, 0.02305688, 0.87698891],\n",
              "         [0.25783961, 0.02274191, 0.85738413],\n",
              "         [0.40636592, 0.02346879, 0.53480539],\n",
              "         [0.47281002, 0.02406985, 0.56550121],\n",
              "         [0.18491696, 0.02280496, 0.64767487],\n",
              "         [0.37380019, 0.02386108, 0.72872016],\n",
              "         [0.41014357, 0.0220667 , 0.51734018],\n",
              "         [0.42774905, 0.02088057, 0.53031392],\n",
              "         [0.18191629, 0.02372649, 0.72834328],\n",
              "         [0.43879923, 0.02042627, 0.69175676],\n",
              "         [0.13824157, 0.0225479 , 0.86823415],\n",
              "         [0.31476226, 0.02234852, 0.56134081],\n",
              "         [0.3897452 , 0.02391086, 0.59256443],\n",
              "         [0.14753632, 0.02216353, 0.87900105],\n",
              "         [0.31242963, 0.02417723, 0.675603  ],\n",
              "         [0.3328048 , 0.02414091, 0.65117669],\n",
              "         [0.47579385, 0.02025076, 0.64210912],\n",
              "         [0.17624778, 0.02361481, 0.76141676],\n",
              "         [0.20906688, 0.02085235, 0.84014861],\n",
              "         [0.18044272, 0.02288266, 0.68190492],\n",
              "         [0.17585732, 0.02355646, 0.757819  ],\n",
              "         [0.46382602, 0.02093157, 0.53591221],\n",
              "         [0.33383616, 0.02385356, 0.62810277],\n",
              "         [0.32792974, 0.02321429, 0.76719552],\n",
              "         [0.33165912, 0.02005112, 0.68994508],\n",
              "         [0.34695075, 0.02009675, 0.68605342],\n",
              "         [0.23750527, 0.02185515, 0.84242884],\n",
              "         [0.18415495, 0.0213769 , 0.85312553],\n",
              "         [0.48459527, 0.02040338, 0.62325992],\n",
              "         [0.37497397, 0.02372443, 0.69681511],\n",
              "         [0.14449199, 0.02275629, 0.79029833],\n",
              "         [0.24041934, 0.02095974, 0.64323259],\n",
              "         [0.36203106, 0.02269372, 0.75245473],\n",
              "         [0.48691815, 0.02086762, 0.54647878],\n",
              "         [0.16532217, 0.0225125 , 0.7184443 ],\n",
              "         [0.44388936, 0.02042135, 0.60584504],\n",
              "         [0.14909746, 0.02250291, 0.77690878],\n",
              "         [0.41387084, 0.02036262, 0.64802399],\n",
              "         [0.211484  , 0.02273116, 0.82711145],\n",
              "         [0.16334282, 0.02150452, 0.82230846],\n",
              "         [0.31930878, 0.02090412, 0.75575169],\n",
              "         [0.45992279, 0.02131325, 0.67848443],\n",
              "         [0.4933318 , 0.02068809, 0.58226316],\n",
              "         [0.4069702 , 0.0215435 , 0.55630866],\n",
              "         [0.20973153, 0.02082891, 0.78513761],\n",
              "         [0.37092409, 0.02209118, 0.73736554],\n",
              "         [0.26790735, 0.02242953, 0.6255745 ],\n",
              "         [0.17282984, 0.02140148, 0.77231891],\n",
              "         [0.21598909, 0.02256636, 0.80948487],\n",
              "         [0.23958627, 0.02268828, 0.79759961],\n",
              "         [0.20419563, 0.02116317, 0.72027355],\n",
              "         [0.21635115, 0.02091168, 0.73690699],\n",
              "         [0.43048084, 0.02106395, 0.58328796],\n",
              "         [0.40146025, 0.02112879, 0.58781272],\n",
              "         [0.20500326, 0.02109231, 0.73531157],\n",
              "         [0.23794364, 0.02282357, 0.67757473],\n",
              "         [0.4172405 , 0.02302383, 0.59585756],\n",
              "         [0.33643581, 0.02150298, 0.74197513],\n",
              "         [0.39362203, 0.02131298, 0.69848517],\n",
              "         [0.29011928, 0.02330081, 0.67938109],\n",
              "         [0.47042604, 0.02229695, 0.65553463],\n",
              "         [0.19030303, 0.02201007, 0.72375263],\n",
              "         [0.25089339, 0.02082886, 0.7324974 ],\n",
              "         [0.37619487, 0.020785  , 0.6351102 ],\n",
              "         [0.45177066, 0.02152614, 0.66255893],\n",
              "         [0.40006813, 0.02166257, 0.57781896],\n",
              "         [0.45305053, 0.02172381, 0.66322058],\n",
              "         [0.4045702 , 0.02294496, 0.67381616],\n",
              "         [0.20515451, 0.02236454, 0.79538369],\n",
              "         [0.20213595, 0.02162778, 0.78979061],\n",
              "         [0.23760921, 0.02162574, 0.6713787 ],\n",
              "         [0.34023088, 0.02086385, 0.64473925],\n",
              "         [0.19386834, 0.02156254, 0.74981912],\n",
              "         [0.24849904, 0.02094686, 0.73464856],\n",
              "         [0.34985006, 0.02286151, 0.61682047],\n",
              "         [0.19176216, 0.02217631, 0.74236371],\n",
              "         [0.43512218, 0.02297822, 0.63239233],\n",
              "         [0.25914479, 0.02200742, 0.65096145],\n",
              "         [0.46908388, 0.02252177, 0.63985535],\n",
              "         [0.20181432, 0.02148426, 0.74826645],\n",
              "         [0.43776166, 0.02233854, 0.57636599],\n",
              "         [0.32738015, 0.02184079, 0.74313514],\n",
              "         [0.34215404, 0.02309816, 0.64519053],\n",
              "         [0.35247173, 0.02245267, 0.72224736],\n",
              "         [0.27224118, 0.02109436, 0.67655161],\n",
              "         [0.49906494, 0.02225713, 0.61590621],\n",
              "         [0.32938704, 0.02094208, 0.65656144],\n",
              "         [0.19644213, 0.022004  , 0.76052925],\n",
              "         [0.20529932, 0.02222637, 0.77469174],\n",
              "         [0.23623585, 0.02147258, 0.77141632],\n",
              "         [0.31251576, 0.02093416, 0.69020711],\n",
              "         [0.38969617, 0.02239716, 0.59549827],\n",
              "         [0.30887002, 0.02104958, 0.66020693],\n",
              "         [0.44560169, 0.02199721, 0.6563111 ],\n",
              "         [0.28527938, 0.02114569, 0.7342641 ],\n",
              "         [0.20664657, 0.02226085, 0.76790189],\n",
              "         [0.23559149, 0.02242881, 0.77294561],\n",
              "         [0.37835857, 0.02244782, 0.60303027],\n",
              "         [0.23759381, 0.02176441, 0.68594132],\n",
              "         [0.30991338, 0.02255322, 0.73750957],\n",
              "         [0.49137037, 0.02209148, 0.58573718],\n",
              "         [0.38026111, 0.02118872, 0.62582959],\n",
              "         [0.23490839, 0.02133459, 0.72377782],\n",
              "         [0.21300915, 0.02202935, 0.72660275],\n",
              "         [0.34828258, 0.02245251, 0.7139695 ],\n",
              "         [0.4089634 , 0.02189356, 0.59352374],\n",
              "         [0.32493105, 0.02299929, 0.67955434],\n",
              "         [0.35354471, 0.02236627, 0.61515636],\n",
              "         [0.43223924, 0.02160242, 0.64919844],\n",
              "         [0.44682657, 0.02181382, 0.5916799 ],\n",
              "         [0.45079844, 0.02177426, 0.59394166],\n",
              "         [0.39770622, 0.02279943, 0.63505131],\n",
              "         [0.39326183, 0.02129375, 0.6595794 ],\n",
              "         [0.41076051, 0.02232591, 0.60006423],\n",
              "         [0.24041421, 0.02247925, 0.75623587],\n",
              "         [0.42696007, 0.02185498, 0.59555474],\n",
              "         [0.44670437, 0.02226705, 0.63746107],\n",
              "         [0.3345669 , 0.02291679, 0.67424662],\n",
              "         [0.39274625, 0.02259429, 0.61620679],\n",
              "         [0.29744005, 0.02132942, 0.66251357],\n",
              "         [0.46414316, 0.02219766, 0.60960716],\n",
              "         [0.24842553, 0.02264078, 0.73092243],\n",
              "         [0.4562656 , 0.02209899, 0.60592148],\n",
              "         [0.27423012, 0.0215637 , 0.74374874],\n",
              "         [0.42244167, 0.0217613 , 0.65235626],\n",
              "         [0.23810716, 0.02184468, 0.75760986],\n",
              "         [0.3387747 , 0.02123261, 0.68384266],\n",
              "         [0.24957222, 0.02251792, 0.74239232],\n",
              "         [0.32902457, 0.02250333, 0.63891485],\n",
              "         [0.40490377, 0.02258648, 0.64833843],\n",
              "         [0.29402122, 0.0217923 , 0.74066436],\n",
              "         [0.27694928, 0.0226292 , 0.73210172],\n",
              "         [0.40231327, 0.02187491, 0.60665535],\n",
              "         [0.23038672, 0.0219845 , 0.75351562],\n",
              "         [0.34148322, 0.02205514, 0.7136864 ],\n",
              "         [0.36386137, 0.02146488, 0.63048192],\n",
              "         [0.29040174, 0.02139216, 0.67265859],\n",
              "         [0.28457452, 0.02276163, 0.6961464 ],\n",
              "         [0.23789194, 0.02171708, 0.71480542],\n",
              "         [0.38842772, 0.02171345, 0.61548991],\n",
              "         [0.41402103, 0.0221294 , 0.60806851],\n",
              "         [0.40496194, 0.02161033, 0.61925668],\n",
              "         [0.29673115, 0.02244933, 0.72972572],\n",
              "         [0.34483248, 0.02129957, 0.65979296],\n",
              "         [0.32318503, 0.02161617, 0.64344837],\n",
              "         [0.29510843, 0.02180721, 0.73608385],\n",
              "         [0.42125454, 0.02216811, 0.61103818],\n",
              "         [0.28558285, 0.02188246, 0.66111705],\n",
              "         [0.35881096, 0.02171531, 0.69424308],\n",
              "         [0.42860354, 0.02180802, 0.61666867],\n",
              "         [0.28800654, 0.02177083, 0.66181112],\n",
              "         [0.31819657, 0.02143258, 0.70736735],\n",
              "         [0.31256842, 0.02184563, 0.72605766],\n",
              "         [0.4191231 , 0.02188854, 0.61315363],\n",
              "         [0.36783039, 0.02140666, 0.64494471],\n",
              "         [0.24339123, 0.02227587, 0.74164669],\n",
              "         [0.32552381, 0.02250588, 0.70838288],\n",
              "         [0.2561519 , 0.02165841, 0.74030216],\n",
              "         [0.36764347, 0.02231803, 0.62476888],\n",
              "         [0.27873986, 0.02248927, 0.67952288],\n",
              "         [0.3714836 , 0.02239554, 0.62688953],\n",
              "         [0.36617495, 0.02257846, 0.67296477],\n",
              "         [0.36499869, 0.02146645, 0.6743385 ],\n",
              "         [0.33791465, 0.02269177, 0.68192835],\n",
              "         [0.28449128, 0.02159541, 0.73112002],\n",
              "         [0.31784412, 0.02135341, 0.67058493],\n",
              "         [0.42010736, 0.02211652, 0.64168114],\n",
              "         [0.35782153, 0.02237102, 0.68949295],\n",
              "         [0.30008857, 0.02268466, 0.68938823],\n",
              "         [0.38651891, 0.02176818, 0.67012843],\n",
              "         [0.30557417, 0.02205248, 0.72817679],\n",
              "         [0.27099303, 0.02253673, 0.69772058],\n",
              "         [0.31506181, 0.02256115, 0.66098102],\n",
              "         [0.24724444, 0.02173508, 0.72659551],\n",
              "         [0.33103763, 0.02153673, 0.65022472],\n",
              "         [0.30079489, 0.02235473, 0.72415415],\n",
              "         [0.28269493, 0.02181989, 0.7354853 ],\n",
              "         [0.29687692, 0.02150548, 0.6743041 ],\n",
              "         [0.28693521, 0.02181998, 0.73313015],\n",
              "         [0.34790352, 0.02141552, 0.66831523],\n",
              "         [0.35929072, 0.02259302, 0.66271058],\n",
              "         [0.3464386 , 0.02226492, 0.63587336],\n",
              "         [0.25673903, 0.02169988, 0.70712429],\n",
              "         [0.30251471, 0.02142541, 0.70127881],\n",
              "         [0.3291919 , 0.02227717, 0.64418775],\n",
              "         [0.25764964, 0.0216771 , 0.70975538],\n",
              "         [0.41254095, 0.02196854, 0.64226164],\n",
              "         [0.32742118, 0.02187101, 0.64324222],\n",
              "         [0.2524382 , 0.0222757 , 0.72253479],\n",
              "         [0.32694325, 0.02162279, 0.70269493],\n",
              "         [0.36095895, 0.02241317, 0.63976214],\n",
              "         [0.30433613, 0.02164035, 0.71614477],\n",
              "         [0.409686  , 0.02201341, 0.62837954],\n",
              "         [0.33676397, 0.02157814, 0.69309347],\n",
              "         [0.30076192, 0.02162207, 0.66818824],\n",
              "         [0.40507792, 0.02221343, 0.6332958 ],\n",
              "         [0.40456023, 0.02217938, 0.64003171],\n",
              "         [0.26579964, 0.0220357 , 0.6902808 ],\n",
              "         [0.26440391, 0.02166853, 0.71090241],\n",
              "         [0.39314653, 0.02177487, 0.65108948],\n",
              "         [0.39174796, 0.02230679, 0.64039738],\n",
              "         [0.26416309, 0.02220183, 0.72944499],\n",
              "         [0.3557961 , 0.02229415, 0.64002716],\n",
              "         [0.36413993, 0.02219888, 0.67983222],\n",
              "         [0.29225348, 0.0225088 , 0.7033982 ],\n",
              "         [0.36932834, 0.02165332, 0.66564877],\n",
              "         [0.38792925, 0.02226502, 0.65199727],\n",
              "         [0.3341852 , 0.02245749, 0.68847903],\n",
              "         [0.33666782, 0.02240042, 0.69095776],\n",
              "         [0.37064523, 0.0216593 , 0.66050244],\n",
              "         [0.30183032, 0.02185065, 0.66517505],\n",
              "         [0.33291041, 0.02247204, 0.66289969],\n",
              "         [0.2681876 , 0.02197994, 0.7288704 ],\n",
              "         [0.37356746, 0.02176956, 0.66468731],\n",
              "         [0.30560293, 0.02190476, 0.71668388],\n",
              "         [0.28253881, 0.02170436, 0.68908987],\n",
              "         [0.35613618, 0.02212761, 0.64008072],\n",
              "         [0.36246261, 0.02176479, 0.64332468],\n",
              "         [0.34513612, 0.02244046, 0.67400427],\n",
              "         [0.30522261, 0.02198747, 0.71594576],\n",
              "         [0.32030429, 0.02168031, 0.69773857],\n",
              "         [0.2697802 , 0.02192527, 0.69972447],\n",
              "         [0.3114992 , 0.02191491, 0.66204266],\n",
              "         [0.34555311, 0.0217102 , 0.68024809],\n",
              "         [0.312883  , 0.02210078, 0.66137761],\n",
              "         [0.3326291 , 0.02224861, 0.69318451],\n",
              "         [0.35324357, 0.02168078, 0.66499721],\n",
              "         [0.28285461, 0.02184441, 0.6886327 ],\n",
              "         [0.30876973, 0.02179102, 0.66850789],\n",
              "         [0.2994239 , 0.02226229, 0.67614527],\n",
              "         [0.34829594, 0.0220518 , 0.6463238 ],\n",
              "         [0.32933128, 0.0222651 , 0.69381003],\n",
              "         [0.29412237, 0.02229525, 0.68334427],\n",
              "         [0.27442097, 0.02207326, 0.71860762],\n",
              "         [0.33653835, 0.02227837, 0.68757307],\n",
              "         [0.28201078, 0.02183487, 0.71254242],\n",
              "         [0.33030548, 0.02232443, 0.66914465],\n",
              "         [0.28763103, 0.02204299, 0.7085655 ],\n",
              "         [0.33328947, 0.02205151, 0.68878252],\n",
              "         [0.35187077, 0.02193515, 0.65680466],\n",
              "         [0.35504639, 0.02196763, 0.65665577],\n",
              "         [0.32724132, 0.02219542, 0.66965165],\n",
              "         [0.29759586, 0.02213801, 0.69605349],\n",
              "         [0.31101682, 0.02215623, 0.69379156],\n",
              "         [0.30545907, 0.02202758, 0.68254498],\n",
              "         [0.32769573, 0.02191911, 0.67718907]]),\n",
              "  'weights': array([1.38502851e-38, 1.27194288e-31, 2.53081559e-26, 6.88036352e-26,\n",
              "         2.78698728e-23, 3.44500330e-22, 3.07170887e-21, 6.90999406e-21,\n",
              "         2.13830264e-20, 2.46618220e-19, 3.11604651e-18, 3.00778364e-17,\n",
              "         6.07972167e-17, 3.92261219e-16, 8.31208342e-16, 1.34690268e-15,\n",
              "         1.88356977e-15, 1.21691235e-14, 3.64575529e-14, 8.21922581e-14,\n",
              "         1.30097762e-13, 1.69780918e-13, 2.85206116e-13, 1.12136670e-12,\n",
              "         3.52080043e-12, 9.23878773e-12, 1.75406185e-11, 2.91087418e-11,\n",
              "         7.16176817e-11, 1.23300317e-10, 1.48635592e-10, 2.07109101e-10,\n",
              "         3.88518741e-10, 5.60526224e-10, 6.46992262e-10, 7.26031298e-10,\n",
              "         1.20133016e-09, 2.17182361e-09, 2.90936546e-09, 3.92186675e-09,\n",
              "         5.71422808e-09, 7.57497338e-09, 9.51538187e-09, 1.13074621e-08,\n",
              "         1.45847517e-08, 2.07954505e-08, 3.32468759e-08, 4.84717906e-08,\n",
              "         7.12928483e-08, 1.47972112e-07, 2.31631281e-07, 4.42821038e-07,\n",
              "         6.93234063e-07, 8.47571517e-07, 1.31894674e-06, 1.92361621e-06,\n",
              "         2.61826834e-06, 3.10734120e-06, 3.66979464e-06, 4.51465525e-06,\n",
              "         4.89526411e-06, 5.00126244e-06, 5.11026253e-06, 5.20014341e-06,\n",
              "         6.21575611e-06, 8.24426120e-06, 9.36276738e-06, 1.08541516e-05,\n",
              "         1.22958492e-05, 1.65443138e-05, 2.08035800e-05, 2.18023090e-05,\n",
              "         2.32438907e-05, 2.66181614e-05, 3.03388138e-05, 3.14454266e-05,\n",
              "         3.40212324e-05, 3.66707863e-05, 3.82189744e-05, 4.67931152e-05,\n",
              "         5.99095507e-05, 6.80826133e-05, 7.62012965e-05, 9.73802747e-05,\n",
              "         1.12063065e-04, 1.11017319e-04, 1.40594876e-04, 1.76354291e-04,\n",
              "         1.87165919e-04, 1.93266235e-04, 2.03408526e-04, 2.32691099e-04,\n",
              "         2.85596766e-04, 4.27017956e-04, 5.40225469e-04, 6.15191867e-04,\n",
              "         8.28726648e-04, 1.02500754e-03, 1.14993417e-03, 1.22538714e-03,\n",
              "         1.25717998e-03, 1.34328685e-03, 1.39353513e-03, 1.57624073e-03,\n",
              "         1.81122436e-03, 1.87384915e-03, 1.87265212e-03, 1.90481947e-03,\n",
              "         1.93929021e-03, 1.93580832e-03, 1.97089020e-03, 1.98512196e-03,\n",
              "         1.99928739e-03, 2.02527114e-03, 2.24622180e-03, 2.45328261e-03,\n",
              "         2.43465307e-03, 2.54569665e-03, 2.63925972e-03, 2.64622449e-03,\n",
              "         2.67690753e-03, 2.74884085e-03, 2.85956558e-03, 2.92001626e-03,\n",
              "         2.97447221e-03, 3.00087819e-03, 3.02204984e-03, 3.12886971e-03,\n",
              "         3.25996765e-03, 3.28514115e-03, 3.32906273e-03, 3.39542887e-03,\n",
              "         3.62331294e-03, 3.82385903e-03, 3.81889305e-03, 3.93953966e-03,\n",
              "         4.21419838e-03, 4.35342294e-03, 4.39837176e-03, 4.43686046e-03,\n",
              "         4.41439173e-03, 4.50756754e-03, 4.55905866e-03, 4.52896749e-03,\n",
              "         4.64813598e-03, 4.81851509e-03, 4.86901602e-03, 4.94215882e-03,\n",
              "         4.96267774e-03, 4.98719143e-03, 5.25800401e-03, 5.49301533e-03,\n",
              "         5.53628201e-03, 5.60028985e-03, 5.61696277e-03, 5.77318733e-03,\n",
              "         6.04014831e-03, 6.05611197e-03, 6.09267824e-03, 6.13297271e-03,\n",
              "         6.15068753e-03, 6.22666913e-03, 6.23473195e-03, 6.23994142e-03,\n",
              "         6.29983683e-03, 6.32950669e-03, 6.27571665e-03, 6.24266478e-03,\n",
              "         6.30179134e-03, 6.65287143e-03, 7.08776260e-03, 7.30734462e-03,\n",
              "         7.32166023e-03, 7.22643699e-03, 7.13167809e-03, 7.11791140e-03,\n",
              "         7.11242772e-03, 7.00540341e-03, 6.88815330e-03, 6.77708271e-03,\n",
              "         6.71834978e-03, 6.65224907e-03, 6.61125099e-03, 6.62273049e-03,\n",
              "         6.60631969e-03, 6.57686740e-03, 6.49325053e-03, 6.57030737e-03,\n",
              "         6.71829335e-03, 6.73201681e-03, 6.72917767e-03, 6.72580288e-03,\n",
              "         6.68700121e-03, 6.59916914e-03, 6.53017076e-03, 6.46702766e-03,\n",
              "         6.42467174e-03, 6.37105658e-03, 6.28795627e-03, 6.22955247e-03,\n",
              "         6.16585680e-03, 6.13576251e-03, 6.09970096e-03, 5.99812720e-03,\n",
              "         5.88933257e-03, 5.79811422e-03, 5.72981922e-03, 5.65680031e-03,\n",
              "         5.60171685e-03, 5.53898410e-03, 5.44388355e-03, 5.35297917e-03,\n",
              "         5.26279522e-03, 5.25958917e-03, 5.34847969e-03, 5.37815294e-03,\n",
              "         5.30701526e-03, 5.22249518e-03, 5.13864269e-03, 5.06892956e-03,\n",
              "         5.00298418e-03, 5.01518759e-03, 5.04042196e-03, 4.96216635e-03,\n",
              "         4.90764764e-03, 4.92710787e-03, 4.90533769e-03, 4.85745857e-03,\n",
              "         4.80912974e-03, 4.73053455e-03, 4.67109791e-03, 4.60756777e-03,\n",
              "         4.56612143e-03, 4.52653854e-03, 4.44994122e-03, 4.38686969e-03,\n",
              "         4.41518666e-03, 4.45681064e-03, 4.40733061e-03, 4.32814284e-03,\n",
              "         4.27670783e-03, 4.22848204e-03, 4.15488777e-03, 4.07425403e-03,\n",
              "         4.07693816e-03, 4.16564772e-03, 4.23070442e-03, 4.28982569e-03,\n",
              "         4.32623391e-03, 4.46386905e-03, 4.56908282e-03, 4.57839330e-03,\n",
              "         4.58739136e-03, 4.60307783e-03, 4.65658538e-03, 4.74697027e-03,\n",
              "         4.80222347e-03, 4.84949825e-03, 4.94678699e-03, 5.02111843e-03,\n",
              "         5.05115910e-03, 5.08675236e-03, 5.11454586e-03, 5.16938575e-03,\n",
              "         5.28017210e-03, 5.34820780e-03, 5.38234194e-03, 5.43258552e-03,\n",
              "         5.58382019e-03, 5.71604168e-03, 5.78280739e-03, 5.88690345e-03,\n",
              "         5.93585782e-03, 6.01012260e-03, 6.09281047e-03, 6.11948279e-03,\n",
              "         6.13605537e-03, 6.16171195e-03, 6.19781807e-03, 6.22160001e-03,\n",
              "         6.24659031e-03, 6.26322722e-03, 6.29328385e-03, 6.42898083e-03,\n",
              "         6.79072570e-03, 7.30231162e-03, 7.56895112e-03, 7.62946381e-03,\n",
              "         7.68560064e-03, 7.90297572e-03, 8.20891446e-03, 8.33598674e-03,\n",
              "         8.50176549e-03, 8.75865867e-03])},\n",
              " 'time': 10.790397644042969}"
            ]
          },
          "metadata": {},
          "execution_count": 36
        }
      ]
    },
    {
      "cell_type": "markdown",
      "source": [
        "# 5. Model comparison\n",
        "\n",
        "Exercise: Add code from Docs: https://igomezv.github.io/SimpleMC/tuto_modelcomparison.html "
      ],
      "metadata": {
        "id": "G0NJ-jhWoEXd"
      }
    },
    {
      "cell_type": "code",
      "source": [
        "### Add code from Docs"
      ],
      "metadata": {
        "id": "6jeND4LDoGdJ"
      },
      "execution_count": null,
      "outputs": []
    },
    {
      "cell_type": "code",
      "source": [
        "model1 = DriverMC(analyzername='nested', model='LCDM', datasets='HD+SN+CBAO')\n",
        "res1 = model1.executer(nlivepoints=100)"
      ],
      "metadata": {
        "id": "wauhUm59oYDi",
        "outputId": "ff7cb995-aa6d-4dfb-b172-9458591d3dd9",
        "colab": {
          "base_uri": "https://localhost:8080/"
        }
      },
      "execution_count": null,
      "outputs": [
        {
          "output_type": "stream",
          "name": "stdout",
          "text": [
            "Loading  /content/src/simplemc/simplemc/data/HDiagramCompilacion-data_31.txt\n",
            "Loading  /content/src/simplemc/simplemc/data/HDiagramCompilacion-cov_31.txt\n",
            "Eigenvalues of cov matrix: [16.0, 25.0, 64.0] ... 3844.0\n",
            "Adding marginalising constant\n",
            "Loading  /content/src/simplemc/simplemc/data/jla_binned_distances_31nodes_v1.txt\n",
            "Loading  /content/src/simplemc/simplemc/data/cov_jla_binned_distances_31nodes_v1.txt\n",
            "Eigenvalues of cov matrix: [0.0005070806003107862, 0.0005683516014088379, 0.0007392509073862131] ... 0.036459822761285926\n",
            "Adding marginalising constant\n",
            "Loading  /content/src/simplemc/simplemc/data/sdss_DR12Consensus_bao.dat\n",
            "Loading  /content/src/simplemc/simplemc/data/BAO_consensus_covtot_dM_Hz.txt\n",
            "Eigenvalues of cov matrix: [1.8661647827633074, 4.044518187142372, 8.310791801662504] ... 1791.9797011827197\n",
            "Adding marginalising constant\n",
            "\n",
            "Loading  /content/src/simplemc/simplemc/data/deSainteAgatheetal2019_ap_at_scan.dat\n",
            "Aperp min,max,step,N: 0.77999997139 1.20000004768 0.01250004768300006 40\n",
            "Aparl min,max,step,N: 0.850000023842 1.16999995708 0.011428534983999983 30\n",
            "Loading done\n",
            "rd =  147.30802131602763  Mpc\n",
            "Fiducials at z= 2.34 : 39.25873665473765 8.579485804434077\n",
            "\n",
            "Loading  /content/src/simplemc/simplemc/data/Blomqvistetal2019_ap_at_scan.dat\n",
            "Aperp min,max,step,N: 0.75 1.15 0.020000000000000018 21\n",
            "Aparl min,max,step,N: 0.9 1.24 0.020000000000000018 18\n",
            "Loading done\n",
            "rd =  147.30802131602763  Mpc\n",
            "Fiducials at z= 2.34 : 39.25873665473765 8.579485804434077\n",
            "SixdFGS measurement in  Cuesta : 3.041334103142206 +- 0.18007899294920957\n",
            "\n",
            "Loading  /content/src/simplemc/simplemc/data/chidavexi8stavePk5staverec.dat\n",
            "MGS measurement in Cuesta  : DV= 664.1865351303804 +- 24.86880740958958\n",
            "with rd= 148.6516589371155 DV_fid= 638.9490468680368 alphamin= 1.0394984363558428\n",
            "eBOSS measurement in  Cuesta : 26.011229927559633 +- 0.11506398875058907\n",
            "Free parameters:\n",
            "Om = 0.3038 +/- 0.05\n",
            "Obh2 = 0.02234 +/- 0.001\n",
            "h = 0.6821 +/- 0.05\n"
          ]
        },
        {
          "output_type": "stream",
          "name": "stderr",
          "text": [
            "/content/src/simplemc/simplemc/likelihoods/TabulatedBAODVLikelihood.py:37: IntegrationWarning: The maximum number of subdivisions (50) has been achieved.\n",
            "  If increasing the limit yields no improvement it is advised to analyze \n",
            "  the integrand in order to determine the difficulties.  If the position of a \n",
            "  local difficulty can be determined (singularity, discontinuity) one will \n",
            "  probably gain from splitting up the interval and calling the integrator \n",
            "  on the subranges.  Perhaps a special-purpose integrator should be used.\n",
            "  rms /= quad(lambda x: sp.exp(-self.chi2i(alphamin+x)/2), -0.1, 0.1)[0]\n",
            "INFO:simplemc:Using 1 processor\n",
            "INFO:simplemc:\n",
            "\tnlivepoints: 100\n",
            "\taccuracy: 0.01\n",
            "\tnested type: multi\n"
          ]
        },
        {
          "output_type": "stream",
          "name": "stdout",
          "text": [
            "it: 718 | ncall: 4655 | eff: 15.446 | logz: -37.5605 | dlogz: 1.2403 | loglstar: -30.8449 | point 0.29874181 0.02273615 0.69111519"
          ]
        }
      ]
    },
    {
      "cell_type": "code",
      "source": [
        "model2 = DriverMC(analyzername='nested', model='owaCDM', datasets='HD+SN+CBAO')\n",
        "res2 = model2.executer(nlivepoints=100)\n",
        "res2['result']['logz']"
      ],
      "metadata": {
        "id": "SMlXY9-DxhQ1",
        "outputId": "0df28a89-0d92-46c6-f635-3b0cea294b58",
        "colab": {
          "base_uri": "https://localhost:8080/"
        }
      },
      "execution_count": 24,
      "outputs": [
        {
          "output_type": "stream",
          "name": "stdout",
          "text": [
            "Loading  /content/src/simplemc/simplemc/data/HDiagramCompilacion-data_31.txt\n",
            "Loading  /content/src/simplemc/simplemc/data/HDiagramCompilacion-cov_31.txt\n",
            "Eigenvalues of cov matrix: [16.0, 25.0, 64.0] ... 3844.0\n",
            "Adding marginalising constant\n",
            "Loading  /content/src/simplemc/simplemc/data/jla_binned_distances_31nodes_v1.txt\n",
            "Loading  /content/src/simplemc/simplemc/data/cov_jla_binned_distances_31nodes_v1.txt\n",
            "Eigenvalues of cov matrix: [0.0005070806003107862, 0.0005683516014088379, 0.0007392509073862131] ... 0.036459822761285926\n",
            "Adding marginalising constant\n",
            "Loading  /content/src/simplemc/simplemc/data/sdss_DR12Consensus_bao.dat\n",
            "Loading  /content/src/simplemc/simplemc/data/BAO_consensus_covtot_dM_Hz.txt\n",
            "Eigenvalues of cov matrix: [1.8661647827633074, 4.044518187142372, 8.310791801662504] ... 1791.9797011827197\n",
            "Adding marginalising constant\n",
            "\n",
            "Loading  /content/src/simplemc/simplemc/data/deSainteAgatheetal2019_ap_at_scan.dat\n",
            "Aperp min,max,step,N: 0.77999997139 1.20000004768 0.01250004768300006 40\n",
            "Aparl min,max,step,N: 0.850000023842 1.16999995708 0.011428534983999983 30\n",
            "Loading done\n",
            "rd =  147.30802131602763  Mpc\n",
            "Fiducials at z= 2.34 : 39.25873665473765 8.579485804434077\n",
            "\n",
            "Loading  /content/src/simplemc/simplemc/data/Blomqvistetal2019_ap_at_scan.dat\n",
            "Aperp min,max,step,N: 0.75 1.15 0.020000000000000018 21\n",
            "Aparl min,max,step,N: 0.9 1.24 0.020000000000000018 18\n",
            "Loading done\n",
            "rd =  147.30802131602763  Mpc\n",
            "Fiducials at z= 2.34 : 39.25873665473765 8.579485804434077\n",
            "SixdFGS measurement in  Cuesta : 3.041334103142206 +- 0.18007899294920957\n",
            "\n",
            "Loading  /content/src/simplemc/simplemc/data/chidavexi8stavePk5staverec.dat\n"
          ]
        },
        {
          "output_type": "stream",
          "name": "stderr",
          "text": [
            "/content/src/simplemc/simplemc/likelihoods/TabulatedBAODVLikelihood.py:37: IntegrationWarning: The maximum number of subdivisions (50) has been achieved.\n",
            "  If increasing the limit yields no improvement it is advised to analyze \n",
            "  the integrand in order to determine the difficulties.  If the position of a \n",
            "  local difficulty can be determined (singularity, discontinuity) one will \n",
            "  probably gain from splitting up the interval and calling the integrator \n",
            "  on the subranges.  Perhaps a special-purpose integrator should be used.\n",
            "  rms /= quad(lambda x: sp.exp(-self.chi2i(alphamin+x)/2), -0.1, 0.1)[0]\n",
            "INFO:simplemc:Using 1 processor\n",
            "INFO:simplemc:\n",
            "\tnlivepoints: 100\n",
            "\taccuracy: 0.01\n",
            "\tnested type: multi\n"
          ]
        },
        {
          "output_type": "stream",
          "name": "stdout",
          "text": [
            "MGS measurement in Cuesta  : DV= 664.1865351303804 +- 24.86880740958958\n",
            "with rd= 148.6516589371155 DV_fid= 638.9490468680368 alphamin= 1.0394984363558428\n",
            "eBOSS measurement in  Cuesta : 26.011229927559633 +- 0.11506398875058907\n",
            "Free parameters:\n",
            "Om = 0.3038 +/- 0.05\n",
            "Obh2 = 0.02234 +/- 0.001\n",
            "h = 0.6821 +/- 0.05\n",
            "w = -1.0 +/- 0.1\n",
            "wa = 0.0 +/- 0.1\n",
            "Ok = 0.0 +/- 0.01\n",
            "it: 4 | ncall: 105 | eff: 4.762 | logz: -982.4020 | dlogz: 969.8992 | loglstar: -977.0540 | point  2.41791850e-01  2.15346420e-02  7.57071645e-01 -3.91752689e-01\n",
            "it: 36 | ncall: 144 | eff: 25.694 | logz: -351.9955 | dlogz: 315.7096 | loglstar: -346.3836 | point  2.14710718e-01  2.43826172e-02  5.67596269e-01 -1.80225786e+00\n",
            "it: 42 | ncall: 153 | eff: 28.105 | logz: -309.4845 | dlogz: 274.0788 | loglstar: -303.7852 | point  3.37088790e-01  2.19712603e-02  4.25435775e-01 -5.42266528e-01\n",
            "it: 54 | ncall: 173 | eff: 31.792 | logz: -262.5294 | dlogz: 224.0357 | loglstar: -257.2904 | point  4.35036621e-01  2.03202248e-02  8.68609142e-01 -4.86332346e-01\n",
            "it: 88 | ncall: 243 | eff: 36.626 | logz: -175.3275 | dlogz: 136.7889 | loglstar: -169.4267 | point  4.75344193e-01  2.03755735e-02  7.12089580e-01 -4.51931763e-01\n",
            "it: 100 | ncall: 270 | eff: 37.407 | logz: -159.3807 | dlogz: 119.7212 | loglstar: -154.4173 | point  3.92017233e-01  2.00685140e-02  6.01989657e-01 -1.57813126e+00\n",
            "it: 137 | ncall: 426 | eff: 32.394 | logz: -117.9553 | dlogz: 77.9036 | loglstar: -112.7120 | point  3.04746266e-01  2.02250944e-02  8.72737730e-01 -1.93080649e+00\n",
            "it: 140 | ncall: 430 | eff: 32.791 | logz: -116.8453 | dlogz: 76.5515 | loglstar: -111.5537 | point  3.53719438e-01  2.12654267e-02  6.18807439e-01 -3.92788044e-01\n",
            "it: 174 | ncall: 598 | eff: 29.264 | logz: -100.5318 | dlogz: 59.8324 | loglstar: -95.2226 | point  2.28222714e-01  2.24618691e-02  7.03347670e-01 -9.87378478e-01\n",
            "it: 180 | ncall: 643 | eff: 28.149 | logz: -98.2220 | dlogz: 57.4580 | loglstar: -92.9475 | point  2.58146033e-01  2.36426626e-02  6.92298001e-01 -6.90150203e-01\n",
            "it: 204 | ncall: 799 | eff: 25.657 | logz: -90.8295 | dlogz: 50.6958 | loglstar: -85.8154 | point  3.07756769e-01  2.07934845e-02  5.07919782e-01 -3.91937988e-01\n",
            "it: 238 | ncall: 1110 | eff: 21.532 | logz: -80.9737 | dlogz: 40.4616 | loglstar: -75.8835 | point  4.32976689e-01  2.25132701e-02  7.28303287e-01 -1.05689214e+00\n",
            "it: 267 | ncall: 1461 | eff: 18.344 | logz: -74.2260 | dlogz: 36.6340 | loglstar: -68.5158 | point  4.47132797e-01  2.17199484e-02  7.06195340e-01 -7.51656269e-01\n",
            "it: 270 | ncall: 1473 | eff: 18.398 | logz: -73.6678 | dlogz: 36.0458 | loglstar: -67.8619 | point  3.64195560e-01  2.09609368e-02  7.45606297e-01 -1.68634167e+00\n",
            "it: 271 | ncall: 1503 | eff: 18.097 | logz: -73.4272 | dlogz: 35.8407 | loglstar: -67.4883 | point  3.82915143e-01  2.35293825e-02  8.13811017e-01 -1.08982771e+00\n",
            "it: 296 | ncall: 1966 | eff: 15.107 | logz: -69.5074 | dlogz: 31.5420 | loglstar: -64.1143 | point  4.12010754e-01  2.28507420e-02  6.64439749e-01 -9.98887296e-01\n",
            "it: 297 | ncall: 1973 | eff: 15.104 | logz: -69.3736 | dlogz: 31.4216 | loglstar: -63.6911 | point  3.42610989e-01  2.25139336e-02  5.70191088e-01 -2.25450869e-01\n",
            "it: 302 | ncall: 2011 | eff: 15.067 | logz: -68.6610 | dlogz: 30.6687 | loglstar: -62.9881 | point  3.73238050e-01  2.19371124e-02  8.17215745e-01 -1.31687770e+00\n",
            "it: 307 | ncall: 2143 | eff: 14.372 | logz: -67.9941 | dlogz: 29.9303 | loglstar: -62.4712 | point  3.37966519e-01  2.30804448e-02  6.31134542e-01 -1.23062401e+00\n",
            "it: 329 | ncall: 2506 | eff: 13.168 | logz: -64.9846 | dlogz: 27.1595 | loglstar: -58.9422 | point  2.51375076e-01  2.14805118e-02  5.29193806e-01 -3.97485585e-01\n",
            "it: 357 | ncall: 3384 | eff: 10.579 | logz: -61.9400 | dlogz: 23.7919 | loglstar: -56.0750 | point  3.63716461e-01  2.18725852e-02  7.20263700e-01 -5.24804913e-01\n",
            "it: 360 | ncall: 3521 | eff: 10.253 | logz: -61.6590 | dlogz: 23.4726 | loglstar: -55.7425 | point  3.27285191e-01  2.42014143e-02  7.79637637e-01 -1.17378282e+00\n",
            "it: 368 | ncall: 3714 | eff: 9.935 | logz: -60.8962 | dlogz: 22.6460 | loglstar: -54.8013 | point  3.23660531e-01  2.05259469e-02  7.58646350e-01 -1.21171383e+00\n",
            "it: 369 | ncall: 3716 | eff: 9.957 | logz: -60.7684 | dlogz: 22.5242 | loglstar: -54.4365 | point  3.96446849e-01  2.09593357e-02  6.44141559e-01 -8.41886175e-01\n",
            "it: 375 | ncall: 3735 | eff: 10.067 | logz: -60.1006 | dlogz: 21.7665 | loglstar: -54.1192 | point  2.66073685e-01  2.02088401e-02  6.55492261e-01 -7.87880758e-01\n",
            "it: 391 | ncall: 3777 | eff: 10.379 | logz: -58.7430 | dlogz: 20.2280 | loglstar: -52.8489 | point  3.73124799e-01  2.27100959e-02  6.86200183e-01 -1.12918498e+00\n",
            "it: 405 | ncall: 3818 | eff: 10.634 | logz: -57.0520 | dlogz: 18.5177 | loglstar: -50.3185 | point  2.52963363e-01  2.36292443e-02  7.23009495e-01 -1.31349819e+00\n",
            "it: 409 | ncall: 3824 | eff: 10.722 | logz: -56.4814 | dlogz: 17.8864 | loglstar: -49.9371 | point  3.52242338e-01  2.19354750e-02  5.98188714e-01 -6.88593365e-01\n",
            "it: 412 | ncall: 3835 | eff: 10.769 | logz: -56.1678 | dlogz: 17.5175 | loglstar: -49.7315 | point  3.04261972e-01  2.33549191e-02  7.06537873e-01 -1.01050599e+00\n",
            "it: 417 | ncall: 3846 | eff: 10.868 | logz: -55.6037 | dlogz: 16.9310 | loglstar: -48.8844 | point  2.67683728e-01  2.12631030e-02  7.36633916e-01 -1.35754535e+00\n",
            "it: 425 | ncall: 3871 | eff: 11.005 | logz: -54.7877 | dlogz: 15.9995 | loglstar: -48.3156 | point  3.43997420e-01  2.11103623e-02  7.18241495e-01 -1.33912337e+00\n",
            "it: 429 | ncall: 3889 | eff: 11.057 | logz: -54.4408 | dlogz: 15.6075 | loglstar: -47.9596 | point  3.53599830e-01  2.07412701e-02  6.84448264e-01 -1.17130219e+00\n",
            "it: 454 | ncall: 3971 | eff: 11.458 | logz: -52.4300 | dlogz: 13.3372 | loglstar: -45.9026 | point  2.50500474e-01  2.25833810e-02  6.41310561e-01 -9.56253599e-01\n",
            "it: 456 | ncall: 3979 | eff: 11.485 | logz: -52.2714 | dlogz: 13.1637 | loglstar: -45.6742 | point  3.77210887e-01  2.13602076e-02  6.51346889e-01 -8.16446308e-01\n",
            "it: 457 | ncall: 3985 | eff: 11.493 | logz: -52.1969 | dlogz: 13.0737 | loglstar: -45.6629 | point  3.32716171e-01  2.17937774e-02  6.94485871e-01 -1.06344831e+00\n",
            "it: 468 | ncall: 4021 | eff: 11.664 | logz: -51.4400 | dlogz: 12.2028 | loglstar: -44.8192 | point  3.71888588e-01  2.25593243e-02  7.31448272e-01 -7.80620265e-01\n",
            "it: 494 | ncall: 4086 | eff: 12.115 | logz: -49.8949 | dlogz: 11.6644 | loglstar: -43.1510 | point  2.58754283e-01  2.19483656e-02  6.94072641e-01 -1.36856266e+00\n",
            "it: 498 | ncall: 4093 | eff: 12.192 | logz: -49.6570 | dlogz: 11.3869 | loglstar: -42.9173 | point  3.38874770e-01  2.37712237e-02  7.03766590e-01 -8.15824730e-01\n",
            "it: 512 | ncall: 4137 | eff: 12.400 | logz: -48.9124 | dlogz: 12.3227 | loglstar: -42.1939 | point  2.85353840e-01  2.18557638e-02  6.51078567e-01 -1.31255657e+00\n",
            "it: 536 | ncall: 4207 | eff: 12.764 | logz: -47.9819 | dlogz: 11.1392 | loglstar: -41.3554 | point  2.37591584e-01  2.36412342e-02  6.01107729e-01 -8.33056380e-01\n",
            "it: 537 | ncall: 4214 | eff: 12.767 | logz: -47.9455 | dlogz: 11.0951 | loglstar: -41.2828 | point  3.48748255e-01  2.30933823e-02  6.91478526e-01 -7.11201098e-01\n",
            "it: 539 | ncall: 4225 | eff: 12.781 | logz: -47.8725 | dlogz: 11.0020 | loglstar: -41.2308 | point  3.49303443e-01  2.15186868e-02  7.33858400e-01 -1.24762914e+00\n",
            "it: 541 | ncall: 4235 | eff: 12.798 | logz: -47.8036 | dlogz: 10.9113 | loglstar: -41.1649 | point  3.13812385e-01  2.17708679e-02  7.36018386e-01 -1.28241465e+00\n",
            "it: 543 | ncall: 4244 | eff: 12.818 | logz: -47.7347 | dlogz: 10.8227 | loglstar: -41.0719 | point  3.24057106e-01  2.28903211e-02  7.46894923e-01 -1.04852890e+00\n",
            "it: 550 | ncall: 4259 | eff: 12.937 | logz: -47.5074 | dlogz: 10.5212 | loglstar: -40.9342 | point  3.31594927e-01  2.15903915e-02  6.99091560e-01 -9.81180921e-01\n",
            "it: 553 | ncall: 4282 | eff: 12.938 | logz: -47.4229 | dlogz: 10.4043 | loglstar: -40.9039 | point  3.19117371e-01  2.19385142e-02  7.26097799e-01 -1.09824224e+00\n",
            "it: 635 | ncall: 4562 | eff: 13.941 | logz: -44.9948 | dlogz: 7.7478 | loglstar: -37.6199 | point  2.80569426e-01  2.30447385e-02  7.04002323e-01 -9.79510654e-01\n",
            "it: 666 | ncall: 4694 | eff: 14.210 | logz: -44.2152 | dlogz: 6.6555 | loglstar: -36.7612 | point  2.99783371e-01  2.09705663e-02  6.29236020e-01 -8.57129835e-01\n",
            "it: 671 | ncall: 4719 | eff: 14.240 | logz: -44.1071 | dlogz: 6.4965 | loglstar: -36.6823 | point  2.56031187e-01  2.26069374e-02  6.38682670e-01 -1.16130310e+00\n",
            "it: 687 | ncall: 4810 | eff: 14.304 | logz: -43.8012 | dlogz: 6.6875 | loglstar: -36.3676 | point  3.25884878e-01  2.22217553e-02  6.61709541e-01 -1.01588107e+00\n",
            "it: 688 | ncall: 4811 | eff: 14.321 | logz: -43.7834 | dlogz: 6.6600 | loglstar: -36.3574 | point  3.44486928e-01  2.11611614e-02  6.57032010e-01 -6.22334561e-01\n",
            "it: 689 | ncall: 4813 | eff: 14.336 | logz: -43.7657 | dlogz: 6.6323 | loglstar: -36.3229 | point  3.32281940e-01  2.31738207e-02  6.87211427e-01 -7.60198137e-01\n",
            "it: 695 | ncall: 4830 | eff: 14.410 | logz: -43.6620 | dlogz: 6.4691 | loglstar: -36.1804 | point  2.82751931e-01  2.15647639e-02  6.73449040e-01 -9.83243179e-01\n",
            "it: 699 | ncall: 4841 | eff: 14.460 | logz: -43.5949 | dlogz: 6.3611 | loglstar: -36.1394 | point  3.45853930e-01  2.22906137e-02  7.36447493e-01 -1.08147296e+00\n",
            "it: 724 | ncall: 4955 | eff: 14.632 | logz: -43.1627 | dlogz: 5.6826 | loglstar: -35.4031 | point  3.21854491e-01  2.18708793e-02  6.52245991e-01 -6.18216555e-01\n",
            "it: 745 | ncall: 5070 | eff: 14.714 | logz: -42.8362 | dlogz: 5.7026 | loglstar: -35.0338 | point  3.35873178e-01  2.13771146e-02  6.48193558e-01 -6.67776333e-01\n",
            "it: 747 | ncall: 5082 | eff: 14.719 | logz: -42.8074 | dlogz: 5.6538 | loglstar: -35.0048 | point  3.06629823e-01  2.22169828e-02  7.16894642e-01 -1.14227037e+00\n",
            "it: 798 | ncall: 5337 | eff: 14.971 | logz: -42.1695 | dlogz: 4.5123 | loglstar: -34.1596 | point  3.31008666e-01  2.14158128e-02  6.95133400e-01 -1.10545605e+00\n",
            "it: 803 | ncall: 5372 | eff: 14.966 | logz: -42.1175 | dlogz: 4.4114 | loglstar: -34.0800 | point  3.31475405e-01  2.20929120e-02  6.90679413e-01 -1.06164629e+00\n",
            "it: 809 | ncall: 5402 | eff: 14.994 | logz: -42.0564 | dlogz: 4.2919 | loglstar: -33.9899 | point  3.10564417e-01  2.23162813e-02  6.99202302e-01 -8.83583364e-01\n",
            "it: 810 | ncall: 5404 | eff: 15.007 | logz: -42.0464 | dlogz: 4.2721 | loglstar: -33.9837 | point  3.15022336e-01  2.21164355e-02  6.74606754e-01 -7.35357803e-01\n",
            "it: 843 | ncall: 5529 | eff: 15.265 | logz: -41.7504 | dlogz: 3.6581 | loglstar: -33.5527 | point  2.64638760e-01  2.24327271e-02  6.04229807e-01 -8.37108640e-01\n",
            "it: 850 | ncall: 5549 | eff: 15.336 | logz: -41.6950 | dlogz: 3.5361 | loglstar: -33.4650 | point  3.31336433e-01  2.19360522e-02  6.68868386e-01 -7.28653597e-01\n",
            "it: 866 | ncall: 5585 | eff: 15.524 | logz: -41.5732 | dlogz: 3.2639 | loglstar: -33.2788 | point  3.03204606e-01  2.23745954e-02  6.77759315e-01 -1.13538764e+00\n",
            "it: 868 | ncall: 5588 | eff: 15.551 | logz: -41.5591 | dlogz: 3.2310 | loglstar: -33.2586 | point  3.02825603e-01  2.32934448e-02  6.65819787e-01 -9.78729678e-01\n",
            "it: 873 | ncall: 5604 | eff: 15.596 | logz: -41.5246 | dlogz: 3.1499 | loglstar: -33.2208 | point  3.20328705e-01  2.26199111e-02  6.75801480e-01 -1.11323512e+00\n",
            "it: 875 | ncall: 5606 | eff: 15.626 | logz: -41.5111 | dlogz: 3.1180 | loglstar: -33.1849 | point  3.17762153e-01  2.13592461e-02  6.96275946e-01 -1.17109798e+00\n",
            "it: 882 | ncall: 5633 | eff: 15.675 | logz: -41.4652 | dlogz: 3.0076 | loglstar: -33.1103 | point  3.09612240e-01  2.30800701e-02  6.70269225e-01 -1.04192193e+00\n",
            "it: 910 | ncall: 5711 | eff: 15.952 | logz: -41.2786 | dlogz: 2.5714 | loglstar: -32.6302 | point  3.18984357e-01  2.23325634e-02  6.66337317e-01 -7.87969349e-01\n",
            "it: 928 | ncall: 5757 | eff: 16.137 | logz: -41.1704 | dlogz: 2.3083 | loglstar: -32.5170 | point  2.97991992e-01  2.14257259e-02  6.92898377e-01 -1.16123444e+00\n",
            "it: 944 | ncall: 5818 | eff: 16.243 | logz: -41.0856 | dlogz: 2.1016 | loglstar: -32.3249 | point  3.00448664e-01  2.29738599e-02  6.93341405e-01 -1.09734537e+00\n",
            "it: 993 | ncall: 5949 | eff: 16.709 | logz: -40.8333 | dlogz: 1.7194 | loglstar: -31.6042 | point  2.96265358e-01  2.23462813e-02  6.96674939e-01 -9.26760654e-01\n",
            "it: 1008 | ncall: 5993 | eff: 16.836 | logz: -40.7592 | dlogz: 1.5397 | loglstar: -31.4385 | point  3.11164282e-01  2.18926464e-02  6.62047372e-01 -7.61083496e-01\n",
            "it: 1047 | ncall: 6139 | eff: 17.071 | logz: -40.5844 | dlogz: 1.1265 | loglstar: -31.0496 | point  2.63972811e-01  2.18363784e-02  6.23088011e-01 -9.11691898e-01\n",
            "it: 1049 | ncall: 6150 | eff: 17.073 | logz: -40.5763 | dlogz: 1.1076 | loglstar: -31.0355 | point  2.90473394e-01  2.27301892e-02  6.69727452e-01 -1.06843746e+00\n",
            "it: 1120 | ncall: 6449 | eff: 17.383 | logz: -40.3405 | dlogz: 0.6850 | loglstar: -30.4963 | point  2.77015680e-01  2.16828993e-02  6.58624075e-01 -1.06061206e+00\n",
            "it: 1125 | ncall: 6461 | eff: 17.428 | logz: -40.3274 | dlogz: 0.6543 | loglstar: -30.4810 | point  2.83502891e-01  2.15120690e-02  6.49718228e-01 -1.03528513e+00\n",
            "it: 1143 | ncall: 6513 | eff: 17.565 | logz: -40.2840 | dlogz: 0.5534 | loglstar: -30.3854 | point  2.98105864e-01  2.20812943e-02  6.50226758e-01 -8.05517972e-01\n",
            "it: 1157 | ncall: 6562 | eff: 17.647 | logz: -40.2544 | dlogz: 0.4850 | loglstar: -30.3531 | point  3.06825383e-01  2.19725117e-02  6.68716093e-01 -1.03249896e+00\n",
            "it: 1159 | ncall: 6568 | eff: 17.661 | logz: -40.2505 | dlogz: 0.4759 | loglstar: -30.3508 | point  3.15776491e-01  2.24670451e-02  6.75116044e-01 -8.50415341e-01\n",
            "it: 1160 | ncall: 6571 | eff: 17.669 | logz: -40.2486 | dlogz: 0.4714 | loglstar: -30.3498 | point  3.22308619e-01  2.20568370e-02  6.95987736e-01 -9.52782983e-01\n",
            "it: 1161 | ncall: 6574 | eff: 17.676 | logz: -40.2467 | dlogz: 0.4670 | loglstar: -30.3311 | point  2.69733134e-01  2.23218383e-02  6.39121448e-01 -9.34451031e-01\n",
            "it: 1171 | ncall: 6592 | eff: 17.779 | logz: -40.2282 | dlogz: 0.4245 | loglstar: -30.2769 | point  3.09264254e-01  2.20651813e-02  6.98768087e-01 -1.02703341e+00\n",
            "it: 1253 | ncall: 6873 | eff: 18.245 | logz: -40.1187 | dlogz: 0.2131 | loglstar: -29.9630 | point  2.95253346e-01  2.16488343e-02  6.45894244e-01 -8.83908150e-01\n",
            "it: 1278 | ncall: 6978 | eff: 18.329 | logz: -40.0963 | dlogz: 0.1664 | loglstar: -29.8643 | point  2.95890322e-01  2.17674415e-02  6.49824715e-01 -9.11282072e-01\n",
            "it: 1289 | ncall: 7023 | eff: 18.368 | logz: -40.0877 | dlogz: 0.1492 | loglstar: -29.8387 | point  2.97703820e-01  2.24928335e-02  6.61275406e-01 -9.44580890e-01\n",
            "it: 1321 | ncall: 7144 | eff: 18.505 | logz: -40.0665 | dlogz: 0.1085 | loglstar: -29.7515 | point  2.79512954e-01  2.24540795e-02  6.56676622e-01 -9.93157783e-01\n",
            "it: 1322 | ncall: 7149 | eff: 18.506 | logz: -40.0659 | dlogz: 0.1074 | loglstar: -29.7509 | point  2.83276787e-01  2.22178305e-02  6.55132020e-01 -1.01017888e+00\n",
            "it: 1326 | ncall: 7163 | eff: 18.526 | logz: -40.0637 | dlogz: 0.1032 | loglstar: -29.7450 | point  2.98407378e-01  2.24215992e-02  6.75970520e-01 -1.04292502e+00\n",
            "it: 1342 | ncall: 7228 | eff: 18.581 | logz: -40.0553 | dlogz: 0.0879 | loglstar: -29.6952 | point  2.90369751e-01  2.22847455e-02  6.46615776e-01 -9.29147553e-01\n",
            "it: 1351 | ncall: 7245 | eff: 18.661 | logz: -40.0510 | dlogz: 0.0804 | loglstar: -29.6673 | point  2.86201971e-01  2.22780430e-02  6.44163438e-01 -9.13968164e-01\n",
            "it: 1373 | ncall: 7315 | eff: 18.783 | logz: -40.0417 | dlogz: 0.0645 | loglstar: -29.6214 | point  2.86184902e-01  2.23788980e-02  6.50143425e-01 -9.80211476e-01\n",
            "it: 1375 | ncall: 7323 | eff: 18.790 | logz: -40.0410 | dlogz: 0.0632 | loglstar: -29.6203 | point  3.13559062e-01  2.17993702e-02  6.76995369e-01 -9.81559604e-01\n",
            "it: 1376 | ncall: 7328 | eff: 18.791 | logz: -40.0406 | dlogz: 0.0626 | loglstar: -29.6153 | point  2.78724742e-01  2.19876937e-02  6.60422854e-01 -1.00297394e+00\n",
            "it: 1385 | ncall: 7359 | eff: 18.834 | logz: -40.0373 | dlogz: 0.0572 | loglstar: -29.5910 | point  3.08245013e-01  2.18006598e-02  6.70403019e-01 -8.98296430e-01\n",
            "it: 1445 | ncall: 7573 | eff: 19.094 | logz: -40.0206 | dlogz: 0.0314 | loglstar: -29.4729 | point  3.05209766e-01  2.17505453e-02  6.66726443e-01 -9.87291894e-01\n",
            "it: 1466 | ncall: 7685 | eff: 19.089 | logz: -40.0165 | dlogz: 0.0254 | loglstar: -29.4406 | point  2.86938467e-01  2.22592632e-02  6.62002306e-01 -1.02856048e+00\n",
            "it: 1469 | ncall: 7694 | eff: 19.106 | logz: -40.0160 | dlogz: 0.0247 | loglstar: -29.4370 | point  3.06553147e-01  2.18599271e-02  6.60028051e-01 -9.42449048e-01\n",
            "it: 1473 | ncall: 7703 | eff: 19.135 | logz: -40.0153 | dlogz: 0.0237 | loglstar: -29.4326 | point  3.04996234e-01  2.20496189e-02  6.74226245e-01 -1.03114000e+00\n",
            "it: 1500 | ncall: 7800 | eff: 19.244 | logz: -40.0112 | dlogz: 0.0192 | loglstar: -29.3871 | point  3.10722386e-01  2.18809431e-02  6.61424473e-01 -9.08726063e-01\n",
            "it: 1534 | ncall: 7916 | eff: 19.391 | logz: -40.0073 | dlogz: 0.0145 | loglstar: -29.3294 | point  2.96330676e-01  2.21253531e-02  6.63080986e-01 -1.01711750e+00\n",
            "it: 1549 | ncall: 7949 | eff: 19.499 | logz: -40.0059 | dlogz: 0.0125 | loglstar: -29.3171 | point  2.98423312e-01  2.23618698e-02  6.62893107e-01 -9.62772207e-01\n",
            "it: 1571 | ncall: 8012 | eff: 19.621 | logz: -40.0041 | dlogz: 0.0100 | loglstar: -29.2838 | point  0.28883413  0.02218103  0.65414116 -0.97892387  0.35175377  0.00558053"
          ]
        },
        {
          "output_type": "stream",
          "name": "stderr",
          "text": [
            "WARNING:root:outlier fraction 0.09049180327868853 \n",
            "INFO:simplemc:\n",
            "Elapsed time: 15.315 minutes = 918.912 seconds\n"
          ]
        },
        {
          "output_type": "stream",
          "name": "stdout",
          "text": [
            "\n",
            "Covariance matrix saved in .covmat file\n",
            " [[ 3.76041728e-04 -7.34943017e-07  2.12706627e-04  5.64895650e-04\n",
            "  -6.10599257e-03 -4.19338307e-05]\n",
            " [-7.34943017e-07  2.01328177e-07  5.80192784e-07  5.32435801e-07\n",
            "   1.09994960e-05  3.07749111e-07]\n",
            " [ 2.12706627e-04  5.80192784e-07  4.84292749e-04 -7.45090669e-04\n",
            "  -4.01047506e-03 -3.67575629e-05]\n",
            " [ 5.64895650e-04  5.32435801e-07 -7.45090669e-04  1.13969032e-02\n",
            "  -3.72844671e-02 -1.04444996e-04]\n",
            " [-6.10599257e-03  1.09994960e-05 -4.01047506e-03 -3.72844671e-02\n",
            "   2.51846291e-01  2.45791274e-04]\n",
            " [-4.19338307e-05  3.07749111e-07 -3.67575629e-05 -1.04444996e-04\n",
            "   2.45791274e-04  1.35272816e-04]] \n",
            "\n",
            "simplemc/chains/owaCDM_phy_HD+SN+CBAO_nested_multi_1.txt\n",
            "Removed no burn in\n",
            "\n",
            "getdist cov\n",
            " [[ 3.75469323e-04 -7.33826321e-07  2.12382845e-04  5.64035764e-04\n",
            "  -6.09669803e-03 -4.18699992e-05]\n",
            " [-7.33826321e-07  2.01021751e-07  5.79307187e-07  5.31607116e-07\n",
            "   1.09828661e-05  3.07281324e-07]\n",
            " [ 2.12382845e-04  5.79307187e-07  4.83555558e-04 -7.43956503e-04\n",
            "  -4.00437026e-03 -3.67016114e-05]\n",
            " [ 5.64035764e-04  5.31607116e-07 -7.43956503e-04  1.13795548e-02\n",
            "  -3.72277128e-02 -1.04286002e-04]\n",
            " [-6.09669803e-03  1.09828661e-05 -4.00437026e-03 -3.72277128e-02\n",
            "   2.51462932e-01  2.45417113e-04]\n",
            " [-4.18699992e-05  3.07281324e-07 -3.67016114e-05 -1.04286002e-04\n",
            "   2.45417113e-04  1.35066901e-04]] \n",
            "\n",
            "Om: 0.3027 +/- 0.0194\n",
            "Obh2: 0.0221 +/- 0.0004\n",
            "h: 0.6715 +/- 0.0220\n",
            "w: -0.9580 +/- 0.1068\n",
            "wa: -0.0326 +/- 0.5018\n",
            "Ok: -0.0001 +/- 0.0116\n",
            "\n",
            "Information criterions:\n",
            "\n",
            "\tAIC: 69.9350\n"
          ]
        },
        {
          "output_type": "execute_result",
          "data": {
            "text/plain": [
              "-39.996304973453775"
            ]
          },
          "metadata": {},
          "execution_count": 24
        }
      ]
    },
    {
      "cell_type": "code",
      "source": [
        "res2['result']['logz']"
      ],
      "metadata": {
        "id": "rzoxlsWK9tIX",
        "outputId": "7057f48e-9189-4b9e-fd35-b09591f9e44a",
        "colab": {
          "base_uri": "https://localhost:8080/"
        }
      },
      "execution_count": 25,
      "outputs": [
        {
          "output_type": "execute_result",
          "data": {
            "text/plain": [
              "-39.996304973453775"
            ]
          },
          "metadata": {},
          "execution_count": 25
        }
      ]
    },
    {
      "cell_type": "markdown",
      "source": [
        "# 6. Add new model\n",
        "\n",
        "##6.1 Without cosmology"
      ],
      "metadata": {
        "id": "i4Gw3pwloZD2"
      }
    },
    {
      "cell_type": "code",
      "source": [
        "from simplemc.cosmo.Parameter import Parameter\n",
        "from simplemc.DriverMC import DriverMC\n",
        "import numpy as np"
      ],
      "metadata": {
        "id": "bT47T8JOoa4p"
      },
      "execution_count": 26,
      "outputs": []
    },
    {
      "cell_type": "code",
      "source": [
        "data = np.loadtxt('simplemc/data/line_data.txt')\n",
        "err = np.loadtxt('simplemc/data/line_cov.txt')\n",
        "plt.errorbar(data[:,0], data[:,1], yerr=np.diag(err), fmt='.')"
      ],
      "metadata": {
        "colab": {
          "base_uri": "https://localhost:8080/",
          "height": 283
        },
        "id": "RmHgAabgrs9N",
        "outputId": "e007eb59-1c7a-4ef1-c82a-08a2f6708dda"
      },
      "execution_count": 27,
      "outputs": [
        {
          "output_type": "execute_result",
          "data": {
            "text/plain": [
              "<ErrorbarContainer object of 3 artists>"
            ]
          },
          "metadata": {},
          "execution_count": 27
        },
        {
          "output_type": "display_data",
          "data": {
            "text/plain": [
              "<Figure size 432x288 with 1 Axes>"
            ],
            "image/png": "[encoded data removed]"
          },
          "metadata": {
            "needs_background": "light"
          }
        }
      ]
    },
    {
      "cell_type": "code",
      "source": [
        "def my_model(parameterlist, x):\n",
        "    m, b = parameterlist\n",
        "    return m*x+b"
      ],
      "metadata": {
        "id": "zSBWpvt9og6z"
      },
      "execution_count": 28,
      "outputs": []
    },
    {
      "cell_type": "code",
      "source": [
        "m = Parameter(  \"m\", 0, 0.05, (0, 5), \"m_0\")\n",
        "b = Parameter(\"b\", 3, 0.05, (0, 6), \"b_0\")\n",
        "\n",
        "# create a list with your parameters objects\n",
        "parameterlist = [m, b]"
      ],
      "metadata": {
        "id": "Zjhrvj1FotVj"
      },
      "execution_count": 29,
      "outputs": []
    },
    {
      "cell_type": "code",
      "source": [
        "analyzer = DriverMC(model='simple', datasets='dline', analyzername='nested',\n",
        "                    custom_parameters=parameterlist, custom_function=my_model)\n",
        "\n",
        "#nproc indicates te number of processors to parallelize.\n",
        "res_custom = analyzer.executer(nlivepoints=100, accuracy=10, nproc=4)"
      ],
      "metadata": {
        "colab": {
          "base_uri": "https://localhost:8080/"
        },
        "id": "wlgqWKM_okhK",
        "outputId": "fa58f128-f99e-49ed-f75d-2446627cfc2c"
      },
      "execution_count": 33,
      "outputs": [
        {
          "output_type": "stream",
          "name": "stderr",
          "text": [
            "INFO:simplemc:Loading /content/src/simplemc/simplemc/data/line_data.txt\n",
            "INFO:simplemc:Free parameters and its bounds:\n",
            "INFO:simplemc:m = 0 +/- 0.05\n",
            "INFO:simplemc:b = 3 +/- 0.05\n",
            "INFO:simplemc:Using 4 processors of 2 .\n",
            "INFO:simplemc:\n",
            "\tnlivepoints: 100\n",
            "\taccuracy: 10\n",
            "\tnested type: multi\n"
          ]
        },
        {
          "output_type": "stream",
          "name": "stdout",
          "text": [
            "it: 1093 | ncall: 5325 | eff: 20.545 | logz: -308.7844 | dlogz: 10.0707 | loglstar: -296.0149 | point 1.99569018 4.33907526"
          ]
        },
        {
          "output_type": "stream",
          "name": "stderr",
          "text": [
            "WARNING:root:outlier fraction 0.10736196319018405 \n",
            "INFO:simplemc:\n",
            "Elapsed time: 0.432 minutes = 25.909 seconds\n"
          ]
        },
        {
          "output_type": "stream",
          "name": "stdout",
          "text": [
            "\n",
            "Covariance matrix saved in .covmat file\n",
            " [[ 3.28262910e-06 -1.41361485e-05]\n",
            " [-1.41361485e-05  9.15027176e-05]] \n",
            "\n",
            "simplemc/chains/simple_phy_dline_nested_multi_1.txt\n",
            "Removed no burn in\n",
            "\n",
            "getdist cov\n",
            " [[ 3.15115606e-06 -1.35699760e-05]\n",
            " [-1.35699760e-05  8.78378812e-05]] \n",
            "\n",
            "m: 2.0015 +/- 0.0018\n",
            "b: 4.3273 +/- 0.0096\n",
            "\n",
            "Information criterions:\n",
            "\n",
            "\tAIC: 579.8095\n"
          ]
        }
      ]
    },
    {
      "cell_type": "code",
      "source": [
        "samples = res_custom['result']['samples']\n",
        "weights = res_custom['result']['weights']\n",
        "# mpar = res_custom['result']['samples'][:,0]\n",
        "# bpar = res_custom['result']['samples'][:,1]\n",
        "\n",
        "\n"
      ],
      "metadata": {
        "id": "ZvtPJXTHp8S-"
      },
      "execution_count": 34,
      "outputs": []
    },
    {
      "cell_type": "code",
      "source": [
        "labels =  ['{}'.format(p.Ltxname) for p in analyzer.pars_info]\n",
        "samp = MCSamples(samples=samples, names=labels, labels = labels)\n",
        "g = plots.get_single_plotter(width_inch=6, ratio= 2. / 3.)\n",
        "# g.settings.legend_fontsize = 12\n",
        "g.plot_2d(samp, labels[0], labels[1], filled=False, line_args={'lw':1},\n",
        "          colors=['green', 'red', 'indigo'], smooth=1)"
      ],
      "metadata": {
        "colab": {
          "base_uri": "https://localhost:8080/",
          "height": 366
        },
        "id": "bkbUYYN7rcqU",
        "outputId": "003be91f-420f-434f-df68-cd154c25a5af"
      },
      "execution_count": 35,
      "outputs": [
        {
          "output_type": "stream",
          "name": "stdout",
          "text": [
            "Removed no burn in\n"
          ]
        },
        {
          "output_type": "stream",
          "name": "stderr",
          "text": [
            "WARNING:root:fine_bins_2D not large enough for optimal density: m_0, b_0\n"
          ]
        },
        {
          "output_type": "execute_result",
          "data": {
            "text/plain": [
              "((0.023462677202231712, 4.77528879938277),\n",
              " (-0.1546213693639591, 6.1921662413719805))"
            ]
          },
          "metadata": {},
          "execution_count": 35
        },
        {
          "output_type": "display_data",
          "data": {
            "text/plain": [
              "<Figure size 432x288 with 1 Axes>"
            ],
            "image/png": "[encoded data removed]"
          },
          "metadata": {
            "needs_background": "light"
          }
        }
      ]
    },
    {
      "cell_type": "markdown",
      "source": [
        "## 6.2 Based on $\\Lambda$CDM\n",
        "\n",
        "- Review LCDMCosmology and BaseCosmology."
      ],
      "metadata": {
        "id": "2tmGt5syp1Vt"
      }
    },
    {
      "cell_type": "code",
      "source": [
        "from simplemc.cosmo.Parameter import Parameter\n",
        "from simplemc.DriverMC import DriverMC"
      ],
      "metadata": {
        "id": "-NGxRMrxon2y"
      },
      "execution_count": 18,
      "outputs": []
    },
    {
      "cell_type": "code",
      "source": [
        "Oextra = Parameter('Oextra', 0.1, 0.001, (0, 0.2), '\\Omega_{extra}')\n",
        "\n",
        "paramlist = [Oextra]\n",
        "#H2/H02\n",
        "cosmo_model = 'Ocb/a**3+0.002/a**4+(1.0-0.3-Oextra)'\n",
        "\n",
        "analyzer = DriverMC(model='simple_cosmo', datasets='SN', analyzername='nested',\n",
        "                    custom_parameters=paramlist, custom_function=cosmo_model)"
      ],
      "metadata": {
        "colab": {
          "base_uri": "https://localhost:8080/"
        },
        "id": "9q_Nv9Jjp4we",
        "outputId": "5698177e-217e-4f45-aa8f-a50ac2d46f37"
      },
      "execution_count": 21,
      "outputs": [
        {
          "output_type": "stream",
          "name": "stdout",
          "text": [
            "Loading  /content/src/simplemc/simplemc/data/jla_binned_distances_31nodes_v1.txt\n",
            "Loading  /content/src/simplemc/simplemc/data/cov_jla_binned_distances_31nodes_v1.txt\n",
            "Eigenvalues of cov matrix: [0.0005070806003107862, 0.0005683516014088379, 0.0007392509073862131] ... 0.036459822761285926\n",
            "Adding marginalising constant\n",
            "Free parameters:\n",
            "Om = 0.3038 +/- 0.05\n",
            "Obh2 = 0.02234 +/- 0.001\n",
            "h = 0.6821 +/- 0.05\n",
            "Oextra = 0.1 +/- 0.001\n"
          ]
        }
      ]
    },
    {
      "cell_type": "code",
      "source": [
        "res = analyzer.executer(nlivepoints=100)"
      ],
      "metadata": {
        "colab": {
          "base_uri": "https://localhost:8080/"
        },
        "id": "giOre_Kdu3Oq",
        "outputId": "725ddcd1-6920-4b5b-860d-221125477a01"
      },
      "execution_count": 22,
      "outputs": [
        {
          "output_type": "stream",
          "name": "stderr",
          "text": [
            "INFO:simplemc:Using 1 processor\n",
            "INFO:simplemc:\n",
            "\tnlivepoints: 100\n",
            "\taccuracy: 0.01\n",
            "\tnested type: multi\n"
          ]
        },
        {
          "output_type": "stream",
          "name": "stdout",
          "text": [
            "it: 756 | ncall: 4527 | eff: 16.722 | logz: -19.5313 | dlogz: 0.0100 | loglstar: -16.6153 | point 0.26724684 0.02208286 0.6544996  0.10147504"
          ]
        },
        {
          "output_type": "stream",
          "name": "stderr",
          "text": [
            "WARNING:root:outlier fraction 0.23337222870478413 \n",
            "INFO:simplemc:\n",
            "Elapsed time: 9.981 minutes = 598.880 seconds\n"
          ]
        },
        {
          "output_type": "stream",
          "name": "stdout",
          "text": [
            "\n",
            "Covariance matrix saved in .covmat file\n",
            " [[ 1.27830508e-03  1.10075467e-06 -2.09239763e-04 -1.02249631e-03]\n",
            " [ 1.10075467e-06  2.20424813e-07 -1.16697657e-06 -7.06769517e-07]\n",
            " [-2.09239763e-04 -1.16697657e-06  2.02975893e-02 -1.26939730e-04]\n",
            " [-1.02249631e-03 -7.06769517e-07 -1.26939730e-04  3.35233990e-03]] \n",
            "\n",
            "simplemc/chains/simple_cosmo_phy_SN_nested_multi_1.txt\n",
            "Removed no burn in\n",
            "\n",
            "getdist cov\n",
            " [[ 1.27516955e-03  1.09804960e-06 -2.08726548e-04 -1.01998828e-03]\n",
            " [ 1.09804960e-06  2.19884100e-07 -1.16409844e-06 -7.05034144e-07]\n",
            " [-2.08726548e-04 -1.16409844e-06  2.02478018e-02 -1.26628361e-04]\n",
            " [-1.01998828e-03 -7.05034144e-07 -1.26628361e-04  3.34411705e-03]] \n",
            "\n",
            "Om: 0.2698 +/- 0.0358\n",
            "Obh2: 0.0220 +/- 0.0005\n",
            "h: 0.6448 +/- 0.1425\n",
            "Oextra: 0.1004 +/- 0.0579\n",
            "\n",
            "Information criterions:\n",
            "\n",
            "\tAIC: 41.2112\n"
          ]
        }
      ]
    },
    {
      "cell_type": "code",
      "source": [
        "samples = res['result']['samples']\n",
        "weights = res['result']['weights']"
      ],
      "metadata": {
        "id": "UG_AUAKu04L4"
      },
      "execution_count": null,
      "outputs": []
    },
    {
      "cell_type": "code",
      "source": [
        "labels =  ['{}'.format(p.Ltxname) for p in analyzer.pars_info]\n",
        "labels, np.shape(samples1)"
      ],
      "metadata": {
        "colab": {
          "base_uri": "https://localhost:8080/"
        },
        "id": "ai7fyAoy40eg",
        "outputId": "44c02e5c-57d3-4512-9524-57989f5e50d3"
      },
      "execution_count": null,
      "outputs": [
        {
          "output_type": "execute_result",
          "data": {
            "text/plain": [
              "(['\\\\Omega_m', '\\\\Omega_{b}h^2', 'h', '\\\\Omega_{extra}'], (700, 3))"
            ]
          },
          "metadata": {},
          "execution_count": 80
        }
      ]
    },
    {
      "cell_type": "code",
      "source": [
        "samp = MCSamples(samples=samples, names=labels, labels = labels)\n"
      ],
      "metadata": {
        "colab": {
          "base_uri": "https://localhost:8080/"
        },
        "id": "Q7aTAyMR9cWf",
        "outputId": "d5a03ce1-3207-4072-bf1f-2274763d8f98"
      },
      "execution_count": null,
      "outputs": [
        {
          "output_type": "stream",
          "name": "stdout",
          "text": [
            "Removed no burn in\n"
          ]
        }
      ]
    },
    {
      "cell_type": "code",
      "source": [
        "g = plots.get_subplot_plotter()\n",
        "g.triangle_plot([samp], filled=False, line_args={'lw':1},\n",
        "                colors=['green', 'red', 'indigo'],\n",
        "                settings={ 'smooth_scale_2D':0.8, 'smooth_scale_1D':0.6},)"
      ],
      "metadata": {
        "colab": {
          "base_uri": "https://localhost:8080/",
          "height": 622
        },
        "id": "p92ONgFB9jaf",
        "outputId": "e54bbc44-1a7d-47ee-b355-0bc4b7b50345"
      },
      "execution_count": null,
      "outputs": [
        {
          "output_type": "stream",
          "name": "stderr",
          "text": [
            "WARNING:root:2D kernel density bandwidth optimizer failed for h, \\Omega_{extra}. Using fallback width: f(a) and f(b) must have different signs\n"
          ]
        },
        {
          "output_type": "display_data",
          "data": {
            "text/plain": [
              "<Figure size 576x576 with 10 Axes>"
            ],
            "image/png": "[encoded data removed]"
          },
          "metadata": {
            "needs_background": "light"
          }
        }
      ]
    },
    {
      "cell_type": "code",
      "source": [
        ""
      ],
      "metadata": {
        "id": "vYk2cTz99qLZ"
      },
      "execution_count": null,
      "outputs": []
    }
  ],
  "metadata": {
    "colab": {
      "collapsed_sections": [],
      "name": "simplemc_colab.ipynb",
      "provenance": []
    },
    "kernelspec": {
      "display_name": "Python 3",
      "name": "python3"
    },
    "language_info": {
      "name": "python"
    }
  },
  "nbformat": 4,
  "nbformat_minor": 0
}